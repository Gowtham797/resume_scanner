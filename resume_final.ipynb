{
 "cells": [
  {
   "cell_type": "code",
   "execution_count": 1,
   "id": "4f9146d0",
   "metadata": {},
   "outputs": [],
   "source": [
    "import numpy as np\n",
    "import pandas as pd\n",
    "import matplotlib.pyplot as plt\n",
    "import seaborn as sns"
   ]
  },
  {
   "cell_type": "markdown",
   "id": "f1d1256d",
   "metadata": {},
   "source": [
    "# data importing"
   ]
  },
  {
   "cell_type": "code",
   "execution_count": 2,
   "id": "e28ad5f8",
   "metadata": {},
   "outputs": [
    {
     "data": {
      "text/html": [
       "<div>\n",
       "<style scoped>\n",
       "    .dataframe tbody tr th:only-of-type {\n",
       "        vertical-align: middle;\n",
       "    }\n",
       "\n",
       "    .dataframe tbody tr th {\n",
       "        vertical-align: top;\n",
       "    }\n",
       "\n",
       "    .dataframe thead th {\n",
       "        text-align: right;\n",
       "    }\n",
       "</style>\n",
       "<table border=\"1\" class=\"dataframe\">\n",
       "  <thead>\n",
       "    <tr style=\"text-align: right;\">\n",
       "      <th></th>\n",
       "      <th>ID</th>\n",
       "      <th>Resume_str</th>\n",
       "      <th>Resume_html</th>\n",
       "      <th>Category</th>\n",
       "    </tr>\n",
       "  </thead>\n",
       "  <tbody>\n",
       "    <tr>\n",
       "      <th>0</th>\n",
       "      <td>16852973</td>\n",
       "      <td>HR ADMINISTRATOR/MARKETING ASSOCIATE\\...</td>\n",
       "      <td>&lt;div class=\"fontsize fontface vmargins hmargin...</td>\n",
       "      <td>HR</td>\n",
       "    </tr>\n",
       "    <tr>\n",
       "      <th>1</th>\n",
       "      <td>22323967</td>\n",
       "      <td>HR SPECIALIST, US HR OPERATIONS      ...</td>\n",
       "      <td>&lt;div class=\"fontsize fontface vmargins hmargin...</td>\n",
       "      <td>HR</td>\n",
       "    </tr>\n",
       "    <tr>\n",
       "      <th>2</th>\n",
       "      <td>33176873</td>\n",
       "      <td>HR DIRECTOR       Summary      Over 2...</td>\n",
       "      <td>&lt;div class=\"fontsize fontface vmargins hmargin...</td>\n",
       "      <td>HR</td>\n",
       "    </tr>\n",
       "    <tr>\n",
       "      <th>3</th>\n",
       "      <td>27018550</td>\n",
       "      <td>HR SPECIALIST       Summary    Dedica...</td>\n",
       "      <td>&lt;div class=\"fontsize fontface vmargins hmargin...</td>\n",
       "      <td>HR</td>\n",
       "    </tr>\n",
       "    <tr>\n",
       "      <th>4</th>\n",
       "      <td>17812897</td>\n",
       "      <td>HR MANAGER         Skill Highlights  ...</td>\n",
       "      <td>&lt;div class=\"fontsize fontface vmargins hmargin...</td>\n",
       "      <td>HR</td>\n",
       "    </tr>\n",
       "  </tbody>\n",
       "</table>\n",
       "</div>"
      ],
      "text/plain": [
       "         ID                                         Resume_str  \\\n",
       "0  16852973           HR ADMINISTRATOR/MARKETING ASSOCIATE\\...   \n",
       "1  22323967           HR SPECIALIST, US HR OPERATIONS      ...   \n",
       "2  33176873           HR DIRECTOR       Summary      Over 2...   \n",
       "3  27018550           HR SPECIALIST       Summary    Dedica...   \n",
       "4  17812897           HR MANAGER         Skill Highlights  ...   \n",
       "\n",
       "                                         Resume_html Category  \n",
       "0  <div class=\"fontsize fontface vmargins hmargin...       HR  \n",
       "1  <div class=\"fontsize fontface vmargins hmargin...       HR  \n",
       "2  <div class=\"fontsize fontface vmargins hmargin...       HR  \n",
       "3  <div class=\"fontsize fontface vmargins hmargin...       HR  \n",
       "4  <div class=\"fontsize fontface vmargins hmargin...       HR  "
      ]
     },
     "execution_count": 2,
     "metadata": {},
     "output_type": "execute_result"
    }
   ],
   "source": [
    "resumedata=pd.read_csv(r\"C:\\Resume_final.csv\\Resume_final.csv\")\n",
    "resumedata.head()"
   ]
  },
  {
   "cell_type": "code",
   "execution_count": 3,
   "id": "9c286c32",
   "metadata": {},
   "outputs": [
    {
     "data": {
      "text/plain": [
       "(2484, 4)"
      ]
     },
     "execution_count": 3,
     "metadata": {},
     "output_type": "execute_result"
    }
   ],
   "source": [
    "resumedata.shape"
   ]
  },
  {
   "cell_type": "code",
   "execution_count": 4,
   "id": "f698c0c2",
   "metadata": {},
   "outputs": [
    {
     "data": {
      "text/plain": [
       "Index(['ID', 'Resume_str', 'Resume_html', 'Category'], dtype='object')"
      ]
     },
     "execution_count": 4,
     "metadata": {},
     "output_type": "execute_result"
    }
   ],
   "source": [
    "resumedata.columns"
   ]
  },
  {
   "cell_type": "code",
   "execution_count": 5,
   "id": "6cd980db",
   "metadata": {},
   "outputs": [
    {
     "name": "stdout",
     "output_type": "stream",
     "text": [
      "<class 'pandas.core.frame.DataFrame'>\n",
      "RangeIndex: 2484 entries, 0 to 2483\n",
      "Data columns (total 4 columns):\n",
      " #   Column       Non-Null Count  Dtype \n",
      "---  ------       --------------  ----- \n",
      " 0   ID           2484 non-null   int64 \n",
      " 1   Resume_str   2484 non-null   object\n",
      " 2   Resume_html  2484 non-null   object\n",
      " 3   Category     2484 non-null   object\n",
      "dtypes: int64(1), object(3)\n",
      "memory usage: 77.8+ KB\n"
     ]
    }
   ],
   "source": [
    "resumedata.info()"
   ]
  },
  {
   "cell_type": "code",
   "execution_count": 6,
   "id": "30efa26e",
   "metadata": {},
   "outputs": [
    {
     "data": {
      "text/plain": [
       "ID             0\n",
       "Resume_str     0\n",
       "Resume_html    0\n",
       "Category       0\n",
       "dtype: int64"
      ]
     },
     "execution_count": 6,
     "metadata": {},
     "output_type": "execute_result"
    }
   ],
   "source": [
    "resumedata.isna().sum()"
   ]
  },
  {
   "cell_type": "code",
   "execution_count": 7,
   "id": "505bb9f6",
   "metadata": {},
   "outputs": [
    {
     "data": {
      "text/plain": [
       "\"         HR ADMINISTRATOR/MARKETING ASSOCIATE\\n\\nHR ADMINISTRATOR       Summary     Dedicated Customer Service Manager with 15+ years of experience in Hospitality and Customer Service Management.   Respected builder and leader of customer-focused teams; strives to instill a shared, enthusiastic commitment to customer service.         Highlights         Focused on customer satisfaction  Team management  Marketing savvy  Conflict resolution techniques     Training and development  Skilled multi-tasker  Client relations specialist           Accomplishments      Missouri DOT Supervisor Training Certification  Certified by IHG in Customer Loyalty and Marketing by Segment   Hilton Worldwide General Manager Training Certification  Accomplished Trainer for cross server hospitality systems such as    Hilton OnQ  ,   Micros    Opera PMS   , Fidelio    OPERA    Reservation System (ORS) ,   Holidex    Completed courses and seminars in customer service, sales strategies, inventory control, loss prevention, safety, time management, leadership and performance assessment.        Experience      HR Administrator/Marketing Associate\\n\\nHR Administrator     Dec 2013   to   Current      Company Name   －   City  ,   State     Helps to develop policies, directs and coordinates activities such as employment, compensation, labor relations, benefits, training, and employee services.  Prepares employee separation notices and related documentation  Keeps records of benefits plans participation such as insurance and pension plan, personnel transactions such as hires, promotions, transfers, performance reviews, and terminations, and employee statistics for government reporting.  Advises management in appropriate resolution of employee relations issues.  Administers benefits programs such as life, health, dental, insurance, pension plans, vacation, sick leave, leave of absence, and employee assistance.     Marketing Associate \\xa0   Designed and created marketing collateral for sales meetings, trade shows and company executives.  Managed the in-house advertising program consisting of print and media collateral pieces.  Assisted in the complete design and launch of the company's website in 2 months.  Created an official company page on Facebook to facilitate interaction with customers.  Analyzed ratings and programming features of competitors to evaluate the effectiveness of marketing strategies.         Advanced Medical Claims Analyst     Mar 2012   to   Dec 2013      Company Name   －   City  ,   State     Reviewed medical bills for the accuracy of the treatments, tests, and hospital stays prior to sanctioning the claims.  Trained to interpret the codes (ICD-9, CPT) and terminology commonly used in medical billing to fully understand the paperwork that is submitted by healthcare providers.  Required to have organizational and analytical skills as well as computer skills, knowledge of medical terminology and procedures, statistics, billing standards, data analysis and laws regarding medical billing.         Assistant General Manager     Jun 2010   to   Dec 2010      Company Name   －   City  ,   State     Performed duties including but not limited to, budgeting and financial management, accounting, human resources, payroll and purchasing.  Established and maintained close working relationships with all departments of the hotel to ensure maximum operation, productivity, morale and guest service.  Handled daily operations and reported directly to the corporate office.  Hired and trained staff on overall objectives and goals with an emphasis on high customer service.  Marketing and Advertising, working on public relations with the media, government and local businesses and Chamber of Commerce.         Executive Support / Marketing Assistant     Jul 2007   to   Jun 2010      Company Name   －   City  ,   State     Provided assistance to various department heads - Executive, Marketing, Customer Service, Human Resources.  Managed front-end operations to ensure friendly and efficient transactions.  Ensured the swift resolution of customer issues to preserve customer loyalty while complying with company policies.  Exemplified the second-to-none customer service delivery in all interactions with customers and potential clients.         Reservation & Front Office Manager     Jun 2004   to   Jul 2007      Company Name   －   City  ,   State          Owner/ Partner     Dec 2001   to   May 2004      Company Name   －   City  ,   State          Price Integrity Coordinator     Aug 1999   to   Dec 2001      Company Name   －   City  ,   State          Education      N/A  ,   Business Administration   1999     Jefferson College   －   City  ,   State       Business Administration  Marketing / Advertising         High School Diploma  ,   College Prep. studies   1998     Sainte Genevieve Senior High   －   City  ,   State       Awarded American Shrubel Leadership Scholarship to Jefferson College         Skills     Accounting, ads, advertising, analytical skills, benefits, billing, budgeting, clients, Customer Service, data analysis, delivery, documentation, employee relations, financial management, government relations, Human Resources, insurance, labor relations, layout, Marketing, marketing collateral, medical billing, medical terminology, office, organizational, payroll, performance reviews, personnel, policies, posters, presentations, public relations, purchasing, reporting, statistics, website.    \""
      ]
     },
     "execution_count": 7,
     "metadata": {},
     "output_type": "execute_result"
    }
   ],
   "source": [
    "resumedata['Resume_str'].iloc[0]"
   ]
  },
  {
   "cell_type": "code",
   "execution_count": 8,
   "id": "8711e127",
   "metadata": {},
   "outputs": [
    {
     "data": {
      "text/plain": [
       "'<div class=\"fontsize fontface vmargins hmargins linespacing pagesize\" id=\"document\"> <div class=\"section firstsection\" id=\"SECTION_NAME500375979\" style=\"\\n      padding-top:0px;\\n    \"> <div class=\"paragraph PARAGRAPH_NAME firstparagraph\" id=\"PARAGRAPH_500375979_1_326506904\" style=\"\\n      padding-top:0px;\\n    \"> <div class=\"name\" itemprop=\"name\"> <span class=\"field fName\" id=\"500375979FNAM1\"> </span> <span> </span> <span class=\"field\" id=\"500375979LNAM1\"> HR ADMINISTRATOR/MARKETING ASSOCIATE\\n\\nHR ADMINISTRATOR</span> </div> </div> </div> <div class=\"section\" id=\"SECTION_SUMM500375981\" style=\"\\n      padding-top:0px;\\n    \"> <div class=\"heading bottomborder\"> <div class=\"sectiontitle\" id=\"SECTNAME_SUMM500375981\"> Summary</div> </div> <div class=\"paragraph firstparagraph\" id=\"PARAGRAPH_500375981_1_326506917\" style=\"\\n      padding-top:0px;\\n    \"> <div class=\"field singlecolumn\" id=\"500375981FRFM1\"> <p align=\"LEFT\"> Dedicated Customer Service Manager with 15+ years of experience in Hospitality and Customer Service Management. </p> <p align=\"LEFT\"> Respected builder and leader of customer-focused teams; strives to instill a shared, enthusiastic commitment to customer service.  </p> </div> </div> </div> <div class=\"section\" id=\"SECTION_HILT500375982\" style=\"\\n      padding-top:0px;\\n    \"> <div class=\"heading bottomborder\"> <div class=\"sectiontitle\" id=\"SECTNAME_HILT500375982\"> Highlights</div> </div> <div class=\"paragraph firstparagraph\" id=\"PARAGRAPH_500375982_1_326509244\" style=\"\\n      padding-top:0px;\\n    \"> <div class=\"singlecolumn maincolumn\"> <table class=\"twocol\"> <tbody> <tr> <td class=\"field twocol_1\" id=\"500375982SKC11\"> <p align=\"CENTER\"> Focused on customer satisfaction</p> <p align=\"CENTER\"> Team management</p> <p align=\"CENTER\"> Marketing savvy</p> <p align=\"CENTER\"> Conflict resolution techniques</p> <br/> </td> <td class=\"field twocol_2\" id=\"500375982SKC21\"> <p align=\"CENTER\"> Training and development</p> <p align=\"CENTER\"> Skilled multi-tasker</p> <p align=\"CENTER\"> Client relations specialist</p> </td> </tr> </tbody> </table> </div> </div> </div> <div class=\"section\" id=\"SECTION_ACCM500375993\" style=\"\\n      padding-top:0px;\\n    \"> <div class=\"heading bottomborder\"> <div class=\"sectiontitle\" id=\"SECTNAME_ACCM500375993\"> Accomplishments</div> </div> <div class=\"paragraph firstparagraph\" id=\"PARAGRAPH_500375993_1_326506914\" style=\"\\n      padding-top:0px;\\n    \"> <div class=\"field singlecolumn\" id=\"500375993FRFM1\"> <ul> <li> Missouri DOT Supervisor Training Certification</li> <li> Certified by IHG in Customer Loyalty and Marketing by Segment </li> <li> Hilton Worldwide General Manager Training Certification</li> <li> Accomplished Trainer for cross server hospitality systems such as  <b> <u> Hilton OnQ</u> </b> ,  <u> Micros </u> <b> <u> Opera PMS</u> </b> <u> , Fidelio </u> <b> <u> OPERA</u> </b> <u>  Reservation System (ORS)</u> , <b> <u> Holidex</u> </b> </li> <li> Completed courses and seminars in customer service, sales strategies, inventory control, loss prevention, safety, time management, leadership and performance assessment.</li> </ul> </div> </div> </div> <div class=\"section\" id=\"SECTION_EXPR500375983\" style=\"\\n      padding-top:0px;\\n    \"> <div class=\"heading bottomborder\"> <div class=\"sectiontitle\" id=\"SECTNAME_EXPR500375983\"> Experience</div> </div> <div class=\"paragraph firstparagraph\" id=\"PARAGRAPH_500375983_1_326506906\" itemscope=\"\" itemtype=\"https://schema.org/Organization\" style=\"\\n      padding-top:0px;\\n    \"> <div class=\"singlecolumn\"> <span class=\"paddedline\"> <span class=\"jobtitle\" id=\"500375983JTIT1\"> HR Administrator/Marketing Associate\\n\\nHR Administrator</span> <span> </span> <span class=\"datesWrapper\"> <span class=\"jobdates\" format=\"%b %Y\" id=\"500375983JSTD1\"> Dec 2013</span> <span>  to </span> <span class=\"jobdates\" format=\"%b %Y\" id=\"500375983EDDT1\"> Current</span> <br/> </span> </span> <span class=\"paddedline\" itemscope=\"\" itemtype=\"https://schema.org/postalAddress\"> <span class=\"companyname\" id=\"500375983COMP1\" itemprop=\"name\"> Company Name</span> <span>  － </span> <span class=\"joblocation jobcity\" id=\"500375983JCIT1\" itemprop=\"addressLocality\"> City</span> <span> , </span> <span class=\"joblocation jobstate\" id=\"500375983JSTA1\" itemprop=\"addressRegion\"> State</span> </span> <span class=\"jobline\" id=\"500375983JDES1\" itemprop=\"description\"> <ul> <li> Helps to develop policies, directs and coordinates activities such as employment, compensation, labor relations, benefits, training, and employee services.</li> <li> Prepares employee separation notices and related documentation</li> <li> Keeps records of benefits plans participation such as insurance and pension plan, personnel transactions such as hires, promotions, transfers, performance reviews, and terminations, and employee statistics for government reporting.</li> <li> Advises management in appropriate resolution of employee relations issues.</li> <li> Administers benefits programs such as life, health, dental, insurance, pension plans, vacation, sick leave, leave of absence, and employee assistance.</li> </ul> <br/> <p align=\"LEFT\"> <b> Marketing Associate</b> \\xa0</p> <ul> <li> Designed and created marketing collateral for sales meetings, trade shows and company executives.</li> <li> Managed the in-house advertising program consisting of print and media collateral pieces.</li> <li> Assisted in the complete design and launch of the company\\'s website in 2 months.</li> <li> Created an official company page on Facebook to facilitate interaction with customers.</li> <li> Analyzed ratings and programming features of competitors to evaluate the effectiveness of marketing strategies.</li> </ul> </span> </div> </div> <div class=\"paragraph\" id=\"PARAGRAPH_500375983_2_326506907\" itemscope=\"\" itemtype=\"https://schema.org/Organization\" style=\"\\n      padding-top:10px;\\n    \"> <div class=\"singlecolumn\"> <span class=\"paddedline\"> <span class=\"jobtitle\" id=\"500375983JTIT2\"> Advanced Medical Claims Analyst</span> <span> </span> <span class=\"datesWrapper\"> <span class=\"jobdates\" format=\"%b %Y\" id=\"500375983JSTD2\"> Mar 2012</span> <span>  to </span> <span class=\"jobdates\" format=\"%b %Y\" id=\"500375983EDDT2\"> Dec 2013</span> <br/> </span> </span> <span class=\"paddedline\" itemscope=\"\" itemtype=\"https://schema.org/postalAddress\"> <span class=\"companyname\" id=\"500375983COMP2\" itemprop=\"name\"> Company Name</span> <span>  － </span> <span class=\"joblocation jobcity\" id=\"500375983JCIT2\" itemprop=\"addressLocality\"> City</span> <span> , </span> <span class=\"joblocation jobstate\" id=\"500375983JSTA2\" itemprop=\"addressRegion\"> State</span> </span> <span class=\"jobline\" id=\"500375983JDES2\" itemprop=\"description\"> <ul> <li> Reviewed medical bills for the accuracy of the treatments, tests, and hospital stays prior to sanctioning the claims.</li> <li> Trained to interpret the codes (ICD-9, CPT) and terminology commonly used in medical billing to fully understand the paperwork that is submitted by healthcare providers.</li> <li> Required to have organizational and analytical skills as well as computer skills, knowledge of medical terminology and procedures, statistics, billing standards, data analysis and laws regarding medical billing.</li> </ul> </span> </div> </div> <div class=\"paragraph\" id=\"PARAGRAPH_500375983_3_326506908\" itemscope=\"\" itemtype=\"https://schema.org/Organization\" style=\"\\n      padding-top:15px;\\n    \"> <div class=\"singlecolumn\"> <span class=\"paddedline\"> <span class=\"jobtitle\" id=\"500375983JTIT3\"> Assistant General Manager</span> <span> </span> <span class=\"datesWrapper\"> <span class=\"jobdates\" format=\"%b %Y\" id=\"500375983JSTD3\"> Jun 2010</span> <span>  to </span> <span class=\"jobdates\" format=\"%b %Y\" id=\"500375983EDDT3\"> Dec 2010</span> <br/> </span> </span> <span class=\"paddedline\" itemscope=\"\" itemtype=\"https://schema.org/postalAddress\"> <span class=\"companyname\" id=\"500375983COMP3\" itemprop=\"name\"> Company Name</span> <span>  － </span> <span class=\"joblocation jobcity\" id=\"500375983JCIT3\" itemprop=\"addressLocality\"> City</span> <span> , </span> <span class=\"joblocation jobstate\" id=\"500375983JSTA3\" itemprop=\"addressRegion\"> State</span> </span> <span class=\"jobline\" id=\"500375983JDES3\" itemprop=\"description\"> <ul> <li> Performed duties including but not limited to, budgeting and financial management, accounting, human resources, payroll and purchasing.</li> <li> Established and maintained close working relationships with all departments of the hotel to ensure maximum operation, productivity, morale and guest service.</li> <li> Handled daily operations and reported directly to the corporate office.</li> <li> Hired and trained staff on overall objectives and goals with an emphasis on high customer service.</li> <li> Marketing and Advertising, working on public relations with the media, government and local businesses and Chamber of Commerce.</li> </ul> </span> </div> </div> <div class=\"paragraph\" id=\"PARAGRAPH_500375983_4_326506910\" itemscope=\"\" itemtype=\"https://schema.org/Organization\" style=\"\\n      padding-top:5px;\\n    \"> <div class=\"singlecolumn\"> <span class=\"paddedline\"> <span class=\"jobtitle\" id=\"500375983JTIT4\"> Executive Support / Marketing Assistant</span> <span> </span> <span class=\"datesWrapper\"> <span class=\"jobdates\" format=\"%b %Y\" id=\"500375983JSTD4\"> Jul 2007</span> <span>  to </span> <span class=\"jobdates\" format=\"%b %Y\" id=\"500375983EDDT4\"> Jun 2010</span> <br/> </span> </span> <span class=\"paddedline\" itemscope=\"\" itemtype=\"https://schema.org/postalAddress\"> <span class=\"companyname\" id=\"500375983COMP4\" itemprop=\"name\"> Company Name</span> <span>  － </span> <span class=\"joblocation jobcity\" id=\"500375983JCIT4\" itemprop=\"addressLocality\"> City</span> <span> , </span> <span class=\"joblocation jobstate\" id=\"500375983JSTA4\" itemprop=\"addressRegion\"> State</span> </span> <span class=\"jobline\" id=\"500375983JDES4\" itemprop=\"description\"> <ul> <li> Provided assistance to various department heads - Executive, Marketing, Customer Service, Human Resources.</li> <li> Managed front-end operations to ensure friendly and efficient transactions.</li> <li> Ensured the swift resolution of customer issues to preserve customer loyalty while complying with company policies.</li> <li> Exemplified the second-to-none customer service delivery in all interactions with customers and potential clients.</li> </ul> </span> </div> </div> <div class=\"paragraph\" id=\"PARAGRAPH_500375983_5_326506911\" itemscope=\"\" itemtype=\"https://schema.org/Organization\" style=\"\\n      padding-top:10px;\\n    \"> <div class=\"singlecolumn\"> <span class=\"paddedline\"> <span class=\"jobtitle\" id=\"500375983JTIT5\"> Reservation &amp; Front Office Manager</span> <span> </span> <span class=\"datesWrapper\"> <span class=\"jobdates\" format=\"%b %Y\" id=\"500375983JSTD5\"> Jun 2004</span> <span>  to </span> <span class=\"jobdates\" format=\"%b %Y\" id=\"500375983EDDT5\"> Jul 2007</span> <br/> </span> </span> <span class=\"paddedline\" itemscope=\"\" itemtype=\"https://schema.org/postalAddress\"> <span class=\"companyname\" id=\"500375983COMP5\" itemprop=\"name\"> Company Name</span> <span>  － </span> <span class=\"joblocation jobcity\" id=\"500375983JCIT5\" itemprop=\"addressLocality\"> City</span> <span> , </span> <span class=\"joblocation jobstate\" id=\"500375983JSTA5\" itemprop=\"addressRegion\"> State</span> </span> <span class=\"jobline\" id=\"500375983JDES5\" itemprop=\"description\"> </span> </div> </div> <div class=\"paragraph\" id=\"PARAGRAPH_500375983_6_326506912\" itemscope=\"\" itemtype=\"https://schema.org/Organization\" style=\"\\n      padding-top:10px;\\n    \"> <div class=\"singlecolumn\"> <span class=\"paddedline\"> <span class=\"jobtitle\" id=\"500375983JTIT6\"> Owner/ Partner</span> <span> </span> <span class=\"datesWrapper\"> <span class=\"jobdates\" format=\"%b %Y\" id=\"500375983JSTD6\"> Dec 2001</span> <span>  to </span> <span class=\"jobdates\" format=\"%b %Y\" id=\"500375983EDDT6\"> May 2004</span> <br/> </span> </span> <span class=\"paddedline\" itemscope=\"\" itemtype=\"https://schema.org/postalAddress\"> <span class=\"companyname\" id=\"500375983COMP6\" itemprop=\"name\"> Company Name</span> <span>  － </span> <span class=\"joblocation jobcity\" id=\"500375983JCIT6\" itemprop=\"addressLocality\"> City</span> <span> , </span> <span class=\"joblocation jobstate\" id=\"500375983JSTA6\" itemprop=\"addressRegion\"> State</span> </span> <span class=\"jobline\" id=\"500375983JDES6\" itemprop=\"description\"> </span> </div> </div> <div class=\"paragraph\" id=\"PARAGRAPH_500375983_7_326506913\" itemscope=\"\" itemtype=\"https://schema.org/Organization\" style=\"\\n      padding-top:10px;\\n    \"> <div class=\"singlecolumn\"> <span class=\"paddedline\"> <span class=\"jobtitle\" id=\"500375983JTIT7\"> Price Integrity Coordinator</span> <span> </span> <span class=\"datesWrapper\"> <span class=\"jobdates\" format=\"%b %Y\" id=\"500375983JSTD7\"> Aug 1999</span> <span>  to </span> <span class=\"jobdates\" format=\"%b %Y\" id=\"500375983EDDT7\"> Dec 2001</span> <br/> </span> </span> <span class=\"paddedline\" itemscope=\"\" itemtype=\"https://schema.org/postalAddress\"> <span class=\"companyname\" id=\"500375983COMP7\" itemprop=\"name\"> Company Name</span> <span>  － </span> <span class=\"joblocation jobcity\" id=\"500375983JCIT7\" itemprop=\"addressLocality\"> City</span> <span> , </span> <span class=\"joblocation jobstate\" id=\"500375983JSTA7\" itemprop=\"addressRegion\"> State</span> </span> <span class=\"jobline\" id=\"500375983JDES7\" itemprop=\"description\"> </span> </div> </div> </div> <div class=\"section\" id=\"SECTION_EDUC500400498\" style=\"\\n      padding-top:0px;\\n    \"> <div class=\"heading bottomborder\"> <div class=\"sectiontitle\" id=\"SECTNAME_EDUC500400498\"> Education</div> </div> <div class=\"paragraph firstparagraph\" id=\"PARAGRAPH_500400498_1_326523310\" itemscope=\"\" itemtype=\"https://schema.org/EducationalOrganization\" style=\"\\n      padding-top:0px;\\n    \"> <div class=\"singlecolumn\"> <span class=\"paddedline\" itemprop=\"description\"> <span class=\"degree\" id=\"500400498DGRE1\" itemprop=\"name\"> N/A</span> <span> , </span> <span class=\"programline\" id=\"500400498STUY1\"> Business Administration</span> <span class=\"datesWrapper\"> <span class=\"jobdates\" id=\"500400498GRYR1\"> 1999</span> </span> </span> <span class=\"paddedline\"> <span class=\"companyname companyname_educ\" id=\"500400498SCHO1\" itemprop=\"name\"> Jefferson College</span> <span>  － </span> <span class=\"joblocation jobcity\" id=\"500400498SCIT1\"> City</span> <span> , </span> <span class=\"joblocation jobstate\" id=\"500400498SSTA1\"> State</span> <span class=\"joblocation jobstate\" id=\"500400498SCNT1\"> </span> </span> <span class=\"field\" id=\"500400498FRFM1\"> <ul> <li> Business Administration</li> <li> Marketing / Advertising</li> </ul> </span> </div> </div> <div class=\"paragraph\" id=\"PARAGRAPH_500400498_2_326522471\" itemscope=\"\" itemtype=\"https://schema.org/EducationalOrganization\" style=\"\\n      padding-top:0px;\\n    \"> <div class=\"singlecolumn\"> <span class=\"paddedline\" itemprop=\"description\"> <span class=\"degree\" id=\"500400498DGRE2\" itemprop=\"name\"> High School Diploma</span> <span> , </span> <span class=\"programline\" id=\"500400498STUY2\"> College Prep. studies</span> <span class=\"datesWrapper\"> <span class=\"jobdates\" id=\"500400498GRYR2\"> 1998</span> </span> </span> <span class=\"paddedline\"> <span class=\"companyname companyname_educ\" id=\"500400498SCHO2\" itemprop=\"name\"> Sainte Genevieve Senior High</span> <span>  － </span> <span class=\"joblocation jobcity\" id=\"500400498SCIT2\"> City</span> <span> , </span> <span class=\"joblocation jobstate\" id=\"500400498SSTA2\"> State</span> <span class=\"joblocation jobstate\" id=\"500400498SCNT2\"> </span> </span> <span class=\"field\" id=\"500400498FRFM2\"> <ul> <li> Awarded American Shrubel Leadership Scholarship to Jefferson College</li> </ul> </span> </div> </div> </div> <div class=\"section\" id=\"SECTION_SKLL500375994\" style=\"\\n      padding-top:0px;\\n    \"> <div class=\"heading bottomborder\"> <div class=\"sectiontitle\" id=\"SECTNAME_SKLL500375994\"> Skills</div> </div> <div class=\"paragraph firstparagraph\" id=\"PARAGRAPH_500375994_1_326506918\" style=\"\\n      padding-top:0px;\\n    \"> <div class=\"field singlecolumn\" id=\"500375994FRFM1\"> <p align=\"LEFT\"> Accounting, ads, advertising, analytical skills, benefits, billing, budgeting, clients, Customer Service, data analysis, delivery, documentation, employee relations, financial management, government relations, Human Resources, insurance, labor relations, layout, Marketing, marketing collateral, medical billing, medical terminology, office, organizational, payroll, performance reviews, personnel, policies, posters, presentations, public relations, purchasing, reporting, statistics, website.</p> </div> </div> </div> </div>'"
      ]
     },
     "execution_count": 8,
     "metadata": {},
     "output_type": "execute_result"
    }
   ],
   "source": [
    "resumedata['Resume_html'].iloc[0]"
   ]
  },
  {
   "cell_type": "code",
   "execution_count": 9,
   "id": "30266285",
   "metadata": {},
   "outputs": [
    {
     "data": {
      "text/html": [
       "<div>\n",
       "<style scoped>\n",
       "    .dataframe tbody tr th:only-of-type {\n",
       "        vertical-align: middle;\n",
       "    }\n",
       "\n",
       "    .dataframe tbody tr th {\n",
       "        vertical-align: top;\n",
       "    }\n",
       "\n",
       "    .dataframe thead th {\n",
       "        text-align: right;\n",
       "    }\n",
       "</style>\n",
       "<table border=\"1\" class=\"dataframe\">\n",
       "  <thead>\n",
       "    <tr style=\"text-align: right;\">\n",
       "      <th></th>\n",
       "      <th>ID</th>\n",
       "      <th>Resume_str</th>\n",
       "      <th>Category</th>\n",
       "    </tr>\n",
       "  </thead>\n",
       "  <tbody>\n",
       "    <tr>\n",
       "      <th>0</th>\n",
       "      <td>16852973</td>\n",
       "      <td>HR ADMINISTRATOR/MARKETING ASSOCIATE\\...</td>\n",
       "      <td>HR</td>\n",
       "    </tr>\n",
       "    <tr>\n",
       "      <th>1</th>\n",
       "      <td>22323967</td>\n",
       "      <td>HR SPECIALIST, US HR OPERATIONS      ...</td>\n",
       "      <td>HR</td>\n",
       "    </tr>\n",
       "    <tr>\n",
       "      <th>2</th>\n",
       "      <td>33176873</td>\n",
       "      <td>HR DIRECTOR       Summary      Over 2...</td>\n",
       "      <td>HR</td>\n",
       "    </tr>\n",
       "    <tr>\n",
       "      <th>3</th>\n",
       "      <td>27018550</td>\n",
       "      <td>HR SPECIALIST       Summary    Dedica...</td>\n",
       "      <td>HR</td>\n",
       "    </tr>\n",
       "    <tr>\n",
       "      <th>4</th>\n",
       "      <td>17812897</td>\n",
       "      <td>HR MANAGER         Skill Highlights  ...</td>\n",
       "      <td>HR</td>\n",
       "    </tr>\n",
       "    <tr>\n",
       "      <th>...</th>\n",
       "      <td>...</td>\n",
       "      <td>...</td>\n",
       "      <td>...</td>\n",
       "    </tr>\n",
       "    <tr>\n",
       "      <th>2479</th>\n",
       "      <td>99416532</td>\n",
       "      <td>RANK: SGT/E-5 NON- COMMISSIONED OFFIC...</td>\n",
       "      <td>AVIATION</td>\n",
       "    </tr>\n",
       "    <tr>\n",
       "      <th>2480</th>\n",
       "      <td>24589765</td>\n",
       "      <td>GOVERNMENT RELATIONS, COMMUNICATIONS ...</td>\n",
       "      <td>AVIATION</td>\n",
       "    </tr>\n",
       "    <tr>\n",
       "      <th>2481</th>\n",
       "      <td>31605080</td>\n",
       "      <td>GEEK SQUAD AGENT         Professional...</td>\n",
       "      <td>AVIATION</td>\n",
       "    </tr>\n",
       "    <tr>\n",
       "      <th>2482</th>\n",
       "      <td>21190805</td>\n",
       "      <td>PROGRAM DIRECTOR / OFFICE MANAGER    ...</td>\n",
       "      <td>AVIATION</td>\n",
       "    </tr>\n",
       "    <tr>\n",
       "      <th>2483</th>\n",
       "      <td>37473139</td>\n",
       "      <td>STOREKEEPER II       Professional Sum...</td>\n",
       "      <td>AVIATION</td>\n",
       "    </tr>\n",
       "  </tbody>\n",
       "</table>\n",
       "<p>2484 rows × 3 columns</p>\n",
       "</div>"
      ],
      "text/plain": [
       "            ID                                         Resume_str  Category\n",
       "0     16852973           HR ADMINISTRATOR/MARKETING ASSOCIATE\\...        HR\n",
       "1     22323967           HR SPECIALIST, US HR OPERATIONS      ...        HR\n",
       "2     33176873           HR DIRECTOR       Summary      Over 2...        HR\n",
       "3     27018550           HR SPECIALIST       Summary    Dedica...        HR\n",
       "4     17812897           HR MANAGER         Skill Highlights  ...        HR\n",
       "...        ...                                                ...       ...\n",
       "2479  99416532           RANK: SGT/E-5 NON- COMMISSIONED OFFIC...  AVIATION\n",
       "2480  24589765           GOVERNMENT RELATIONS, COMMUNICATIONS ...  AVIATION\n",
       "2481  31605080           GEEK SQUAD AGENT         Professional...  AVIATION\n",
       "2482  21190805           PROGRAM DIRECTOR / OFFICE MANAGER    ...  AVIATION\n",
       "2483  37473139           STOREKEEPER II       Professional Sum...  AVIATION\n",
       "\n",
       "[2484 rows x 3 columns]"
      ]
     },
     "execution_count": 9,
     "metadata": {},
     "output_type": "execute_result"
    }
   ],
   "source": [
    "resumedata.drop(columns='Resume_html',inplace=True)\n",
    "resumedata"
   ]
  },
  {
   "cell_type": "markdown",
   "id": "a3b41434",
   "metadata": {},
   "source": [
    "# Data visulization"
   ]
  },
  {
   "cell_type": "code",
   "execution_count": 10,
   "id": "885faa4e",
   "metadata": {},
   "outputs": [
    {
     "data": {
      "image/png": "[encoded data removed]",
      "text/plain": [
       "<Figure size 640x480 with 1 Axes>"
      ]
     },
     "metadata": {},
     "output_type": "display_data"
    }
   ],
   "source": [
    "sns.set_style('white')\n",
    "sns.countplot(y='Category',data=resumedata)\n",
    "plt.title('distinct categeries in resumedata')\n",
    "plt.show()"
   ]
  },
  {
   "cell_type": "code",
   "execution_count": 11,
   "id": "7bc51116",
   "metadata": {},
   "outputs": [
    {
     "data": {
      "image/png": "[encoded data removed]",
      "text/plain": [
       "<Figure size 640x480 with 1 Axes>"
      ]
     },
     "metadata": {},
     "output_type": "display_data"
    }
   ],
   "source": [
    "category_values=resumedata[\"Category\"].value_counts()\n",
    "category_labels=resumedata['Category'].unique()\n",
    "\n",
    "plt.pie(category_values,labels=category_labels,autopct='%1.1f%%')\n",
    "plt.show()"
   ]
  },
  {
   "cell_type": "code",
   "execution_count": 12,
   "id": "e10eb9b4",
   "metadata": {},
   "outputs": [
    {
     "data": {
      "text/plain": [
       "pandas.core.series.Series"
      ]
     },
     "execution_count": 12,
     "metadata": {},
     "output_type": "execute_result"
    }
   ],
   "source": [
    "type(category_values)"
   ]
  },
  {
   "cell_type": "code",
   "execution_count": 13,
   "id": "75e60d25",
   "metadata": {},
   "outputs": [],
   "source": [
    "#have to modify visulization more"
   ]
  },
  {
   "cell_type": "markdown",
   "id": "98d118c3",
   "metadata": {},
   "source": [
    "# balncing data"
   ]
  },
  {
   "cell_type": "code",
   "execution_count": 14,
   "id": "9b245dc9",
   "metadata": {},
   "outputs": [],
   "source": [
    "resumedata_BPO=resumedata[resumedata['Category']=='BPO']\n",
    "resumedata_AUTOMOBILE=resumedata[resumedata['Category']=='AUTOMOBILE']\n",
    "resumedata_AGRICULTURE=resumedata[resumedata['Category']=='AGRICULTURE']"
   ]
  },
  {
   "cell_type": "code",
   "execution_count": 15,
   "id": "b545761f",
   "metadata": {},
   "outputs": [
    {
     "data": {
      "text/html": [
       "<div>\n",
       "<style scoped>\n",
       "    .dataframe tbody tr th:only-of-type {\n",
       "        vertical-align: middle;\n",
       "    }\n",
       "\n",
       "    .dataframe tbody tr th {\n",
       "        vertical-align: top;\n",
       "    }\n",
       "\n",
       "    .dataframe thead th {\n",
       "        text-align: right;\n",
       "    }\n",
       "</style>\n",
       "<table border=\"1\" class=\"dataframe\">\n",
       "  <thead>\n",
       "    <tr style=\"text-align: right;\">\n",
       "      <th></th>\n",
       "      <th>ID</th>\n",
       "      <th>Resume_str</th>\n",
       "      <th>Category</th>\n",
       "    </tr>\n",
       "  </thead>\n",
       "  <tbody>\n",
       "    <tr>\n",
       "      <th>0</th>\n",
       "      <td>16852973</td>\n",
       "      <td>HR ADMINISTRATOR/MARKETING ASSOCIATE\\...</td>\n",
       "      <td>HR</td>\n",
       "    </tr>\n",
       "    <tr>\n",
       "      <th>1</th>\n",
       "      <td>22323967</td>\n",
       "      <td>HR SPECIALIST, US HR OPERATIONS      ...</td>\n",
       "      <td>HR</td>\n",
       "    </tr>\n",
       "    <tr>\n",
       "      <th>2</th>\n",
       "      <td>33176873</td>\n",
       "      <td>HR DIRECTOR       Summary      Over 2...</td>\n",
       "      <td>HR</td>\n",
       "    </tr>\n",
       "    <tr>\n",
       "      <th>3</th>\n",
       "      <td>27018550</td>\n",
       "      <td>HR SPECIALIST       Summary    Dedica...</td>\n",
       "      <td>HR</td>\n",
       "    </tr>\n",
       "    <tr>\n",
       "      <th>4</th>\n",
       "      <td>17812897</td>\n",
       "      <td>HR MANAGER         Skill Highlights  ...</td>\n",
       "      <td>HR</td>\n",
       "    </tr>\n",
       "    <tr>\n",
       "      <th>...</th>\n",
       "      <td>...</td>\n",
       "      <td>...</td>\n",
       "      <td>...</td>\n",
       "    </tr>\n",
       "    <tr>\n",
       "      <th>2479</th>\n",
       "      <td>99416532</td>\n",
       "      <td>RANK: SGT/E-5 NON- COMMISSIONED OFFIC...</td>\n",
       "      <td>AVIATION</td>\n",
       "    </tr>\n",
       "    <tr>\n",
       "      <th>2480</th>\n",
       "      <td>24589765</td>\n",
       "      <td>GOVERNMENT RELATIONS, COMMUNICATIONS ...</td>\n",
       "      <td>AVIATION</td>\n",
       "    </tr>\n",
       "    <tr>\n",
       "      <th>2481</th>\n",
       "      <td>31605080</td>\n",
       "      <td>GEEK SQUAD AGENT         Professional...</td>\n",
       "      <td>AVIATION</td>\n",
       "    </tr>\n",
       "    <tr>\n",
       "      <th>2482</th>\n",
       "      <td>21190805</td>\n",
       "      <td>PROGRAM DIRECTOR / OFFICE MANAGER    ...</td>\n",
       "      <td>AVIATION</td>\n",
       "    </tr>\n",
       "    <tr>\n",
       "      <th>2483</th>\n",
       "      <td>37473139</td>\n",
       "      <td>STOREKEEPER II       Professional Sum...</td>\n",
       "      <td>AVIATION</td>\n",
       "    </tr>\n",
       "  </tbody>\n",
       "</table>\n",
       "<p>2363 rows × 3 columns</p>\n",
       "</div>"
      ],
      "text/plain": [
       "            ID                                         Resume_str  Category\n",
       "0     16852973           HR ADMINISTRATOR/MARKETING ASSOCIATE\\...        HR\n",
       "1     22323967           HR SPECIALIST, US HR OPERATIONS      ...        HR\n",
       "2     33176873           HR DIRECTOR       Summary      Over 2...        HR\n",
       "3     27018550           HR SPECIALIST       Summary    Dedica...        HR\n",
       "4     17812897           HR MANAGER         Skill Highlights  ...        HR\n",
       "...        ...                                                ...       ...\n",
       "2479  99416532           RANK: SGT/E-5 NON- COMMISSIONED OFFIC...  AVIATION\n",
       "2480  24589765           GOVERNMENT RELATIONS, COMMUNICATIONS ...  AVIATION\n",
       "2481  31605080           GEEK SQUAD AGENT         Professional...  AVIATION\n",
       "2482  21190805           PROGRAM DIRECTOR / OFFICE MANAGER    ...  AVIATION\n",
       "2483  37473139           STOREKEEPER II       Professional Sum...  AVIATION\n",
       "\n",
       "[2363 rows x 3 columns]"
      ]
     },
     "execution_count": 15,
     "metadata": {},
     "output_type": "execute_result"
    }
   ],
   "source": [
    "resumedata=resumedata[~resumedata['Category'].isin(['BPO','AUTOMOBILE','AGRICULTURE'])]\n",
    "resumedata"
   ]
  },
  {
   "cell_type": "code",
   "execution_count": 16,
   "id": "2642d8fb",
   "metadata": {},
   "outputs": [
    {
     "data": {
      "text/plain": [
       "INFORMATION-TECHNOLOGY    120\n",
       "BUSINESS-DEVELOPMENT      120\n",
       "ACCOUNTANT                118\n",
       "ADVOCATE                  118\n",
       "CHEF                      118\n",
       "FINANCE                   118\n",
       "ENGINEERING               118\n",
       "AVIATION                  117\n",
       "FITNESS                   117\n",
       "SALES                     116\n",
       "BANKING                   115\n",
       "HEALTHCARE                115\n",
       "CONSULTANT                115\n",
       "CONSTRUCTION              112\n",
       "PUBLIC-RELATIONS          111\n",
       "HR                        110\n",
       "DESIGNER                  107\n",
       "ARTS                      103\n",
       "TEACHER                   102\n",
       "APPAREL                    97\n",
       "DIGITAL-MEDIA              96\n",
       "Name: Category, dtype: int64"
      ]
     },
     "execution_count": 16,
     "metadata": {},
     "output_type": "execute_result"
    }
   ],
   "source": [
    "resumedata['Category'].value_counts()"
   ]
  },
  {
   "cell_type": "markdown",
   "id": "eb99e022",
   "metadata": {},
   "source": [
    "# oversampling"
   ]
  },
  {
   "cell_type": "code",
   "execution_count": 17,
   "id": "9801b520",
   "metadata": {},
   "outputs": [],
   "source": [
    "#have to us smote"
   ]
  },
  {
   "cell_type": "code",
   "execution_count": 18,
   "id": "ca1e43d7",
   "metadata": {},
   "outputs": [],
   "source": [
    "resumedata_BPO_smote=resumedata_BPO.sample(110,replace=True)\n",
    "resumedata_AUTOMOBILE_smote=resumedata_AUTOMOBILE.sample(110,replace=True)\n",
    "resumedata_AGRICULTURE_smote=resumedata_AGRICULTURE.sample(110,replace=True)"
   ]
  },
  {
   "cell_type": "code",
   "execution_count": 19,
   "id": "b9320eb7",
   "metadata": {},
   "outputs": [
    {
     "data": {
      "text/html": [
       "<div>\n",
       "<style scoped>\n",
       "    .dataframe tbody tr th:only-of-type {\n",
       "        vertical-align: middle;\n",
       "    }\n",
       "\n",
       "    .dataframe tbody tr th {\n",
       "        vertical-align: top;\n",
       "    }\n",
       "\n",
       "    .dataframe thead th {\n",
       "        text-align: right;\n",
       "    }\n",
       "</style>\n",
       "<table border=\"1\" class=\"dataframe\">\n",
       "  <thead>\n",
       "    <tr style=\"text-align: right;\">\n",
       "      <th></th>\n",
       "      <th>ID</th>\n",
       "      <th>Resume_str</th>\n",
       "      <th>Category</th>\n",
       "    </tr>\n",
       "  </thead>\n",
       "  <tbody>\n",
       "    <tr>\n",
       "      <th>0</th>\n",
       "      <td>16852973</td>\n",
       "      <td>HR ADMINISTRATOR/MARKETING ASSOCIATE\\...</td>\n",
       "      <td>HR</td>\n",
       "    </tr>\n",
       "    <tr>\n",
       "      <th>1</th>\n",
       "      <td>22323967</td>\n",
       "      <td>HR SPECIALIST, US HR OPERATIONS      ...</td>\n",
       "      <td>HR</td>\n",
       "    </tr>\n",
       "    <tr>\n",
       "      <th>2</th>\n",
       "      <td>33176873</td>\n",
       "      <td>HR DIRECTOR       Summary      Over 2...</td>\n",
       "      <td>HR</td>\n",
       "    </tr>\n",
       "    <tr>\n",
       "      <th>3</th>\n",
       "      <td>27018550</td>\n",
       "      <td>HR SPECIALIST       Summary    Dedica...</td>\n",
       "      <td>HR</td>\n",
       "    </tr>\n",
       "    <tr>\n",
       "      <th>4</th>\n",
       "      <td>17812897</td>\n",
       "      <td>HR MANAGER         Skill Highlights  ...</td>\n",
       "      <td>HR</td>\n",
       "    </tr>\n",
       "    <tr>\n",
       "      <th>...</th>\n",
       "      <td>...</td>\n",
       "      <td>...</td>\n",
       "      <td>...</td>\n",
       "    </tr>\n",
       "    <tr>\n",
       "      <th>951</th>\n",
       "      <td>28733974</td>\n",
       "      <td>EXECUTIVE DIRECTOR         Professi...</td>\n",
       "      <td>AGRICULTURE</td>\n",
       "    </tr>\n",
       "    <tr>\n",
       "      <th>962</th>\n",
       "      <td>11676151</td>\n",
       "      <td>PATIENT ACCESS REP       Summary     ...</td>\n",
       "      <td>AGRICULTURE</td>\n",
       "    </tr>\n",
       "    <tr>\n",
       "      <th>969</th>\n",
       "      <td>28247753</td>\n",
       "      <td>COMMITTEE MEMBER         Executive Pr...</td>\n",
       "      <td>AGRICULTURE</td>\n",
       "    </tr>\n",
       "    <tr>\n",
       "      <th>922</th>\n",
       "      <td>30437583</td>\n",
       "      <td>PROGRAM ANALYST       Professional Su...</td>\n",
       "      <td>AGRICULTURE</td>\n",
       "    </tr>\n",
       "    <tr>\n",
       "      <th>966</th>\n",
       "      <td>16661264</td>\n",
       "      <td>NATURAL RESOURCE SPECIALIST GS-12/5  ...</td>\n",
       "      <td>AGRICULTURE</td>\n",
       "    </tr>\n",
       "  </tbody>\n",
       "</table>\n",
       "<p>2693 rows × 3 columns</p>\n",
       "</div>"
      ],
      "text/plain": [
       "           ID                                         Resume_str     Category\n",
       "0    16852973           HR ADMINISTRATOR/MARKETING ASSOCIATE\\...           HR\n",
       "1    22323967           HR SPECIALIST, US HR OPERATIONS      ...           HR\n",
       "2    33176873           HR DIRECTOR       Summary      Over 2...           HR\n",
       "3    27018550           HR SPECIALIST       Summary    Dedica...           HR\n",
       "4    17812897           HR MANAGER         Skill Highlights  ...           HR\n",
       "..        ...                                                ...          ...\n",
       "951  28733974             EXECUTIVE DIRECTOR         Professi...  AGRICULTURE\n",
       "962  11676151           PATIENT ACCESS REP       Summary     ...  AGRICULTURE\n",
       "969  28247753           COMMITTEE MEMBER         Executive Pr...  AGRICULTURE\n",
       "922  30437583           PROGRAM ANALYST       Professional Su...  AGRICULTURE\n",
       "966  16661264           NATURAL RESOURCE SPECIALIST GS-12/5  ...  AGRICULTURE\n",
       "\n",
       "[2693 rows x 3 columns]"
      ]
     },
     "execution_count": 19,
     "metadata": {},
     "output_type": "execute_result"
    }
   ],
   "source": [
    "resumedata=pd.concat([resumedata,resumedata_BPO_smote,resumedata_AUTOMOBILE_smote,resumedata_AGRICULTURE_smote])\n",
    "resumedata"
   ]
  },
  {
   "cell_type": "code",
   "execution_count": 20,
   "id": "d3ba697e",
   "metadata": {},
   "outputs": [
    {
     "data": {
      "text/plain": [
       "INFORMATION-TECHNOLOGY    120\n",
       "BUSINESS-DEVELOPMENT      120\n",
       "FINANCE                   118\n",
       "CHEF                      118\n",
       "ACCOUNTANT                118\n",
       "ADVOCATE                  118\n",
       "ENGINEERING               118\n",
       "FITNESS                   117\n",
       "AVIATION                  117\n",
       "SALES                     116\n",
       "CONSULTANT                115\n",
       "BANKING                   115\n",
       "HEALTHCARE                115\n",
       "CONSTRUCTION              112\n",
       "PUBLIC-RELATIONS          111\n",
       "BPO                       110\n",
       "AUTOMOBILE                110\n",
       "HR                        110\n",
       "AGRICULTURE               110\n",
       "DESIGNER                  107\n",
       "ARTS                      103\n",
       "TEACHER                   102\n",
       "APPAREL                    97\n",
       "DIGITAL-MEDIA              96\n",
       "Name: Category, dtype: int64"
      ]
     },
     "execution_count": 20,
     "metadata": {},
     "output_type": "execute_result"
    }
   ],
   "source": [
    "resumedata['Category'].value_counts()"
   ]
  },
  {
   "cell_type": "code",
   "execution_count": 21,
   "id": "0414020c",
   "metadata": {},
   "outputs": [
    {
     "data": {
      "image/png": "[encoded data removed]",
      "text/plain": [
       "<Figure size 640x480 with 1 Axes>"
      ]
     },
     "metadata": {},
     "output_type": "display_data"
    }
   ],
   "source": [
    "sns.set_style('white')\n",
    "sns.countplot(y='Category',data=resumedata)\n",
    "plt.title('distinct categeries in resumedata')\n",
    "plt.show()"
   ]
  },
  {
   "cell_type": "code",
   "execution_count": 22,
   "id": "2014f9bd",
   "metadata": {},
   "outputs": [
    {
     "data": {
      "image/png": "[encoded data removed]",
      "text/plain": [
       "<Figure size 640x480 with 1 Axes>"
      ]
     },
     "metadata": {},
     "output_type": "display_data"
    }
   ],
   "source": [
    "category_values=resumedata[\"Category\"].value_counts()\n",
    "category_labels=resumedata['Category'].unique()\n",
    "\n",
    "plt.pie(category_values,labels=category_labels,autopct='%1.1f%%')\n",
    "plt.show()"
   ]
  },
  {
   "cell_type": "code",
   "execution_count": 23,
   "id": "833c858a",
   "metadata": {},
   "outputs": [],
   "source": [
    "#resumedata[resumedata['Category']=='INFORMATION-TECHNOLOGY']['Resume_str'].iloc[15]"
   ]
  },
  {
   "cell_type": "code",
   "execution_count": 24,
   "id": "e359e177",
   "metadata": {},
   "outputs": [],
   "source": [
    "#resumedata.Resume_html[960]"
   ]
  },
  {
   "cell_type": "markdown",
   "id": "7e3a0f61",
   "metadata": {},
   "source": [
    "# text cleaning"
   ]
  },
  {
   "cell_type": "code",
   "execution_count": 25,
   "id": "ac3d2dbe",
   "metadata": {},
   "outputs": [],
   "source": [
    "#have to modify the process of text cleaning"
   ]
  },
  {
   "cell_type": "code",
   "execution_count": 26,
   "id": "d708d7f4",
   "metadata": {},
   "outputs": [],
   "source": [
    "import re"
   ]
  },
  {
   "cell_type": "code",
   "execution_count": 27,
   "id": "d83e249c",
   "metadata": {},
   "outputs": [],
   "source": [
    "def cleaning(text):\n",
    "    text=re.sub(r'https:\\\\\\S+',\" \",text) #remove url\n",
    "    text=re.sub('[^a-zA-Z]',\" \",text) #remove other than alphabet\n",
    "    text=text.lower()\n",
    "    text =re.sub(r'(?:january|february|march|april|may|june|july|august|september|october|november|december)',' ', text)#removing any months\n",
    "    text=re.sub(r'(?:jan|feb|mar|apr|may|jun|jul|aug|sep|oct|nov|dec)',' ',text)\n",
    "    text=re.sub('\\s+',\" \",text) #remove extra whitespaces\n",
    "    return text"
   ]
  },
  {
   "cell_type": "code",
   "execution_count": 28,
   "id": "e21c758f",
   "metadata": {},
   "outputs": [
    {
     "data": {
      "text/plain": [
       "' '"
      ]
     },
     "execution_count": 28,
     "metadata": {},
     "output_type": "execute_result"
    }
   ],
   "source": [
    "cleaning('jan,january')"
   ]
  },
  {
   "cell_type": "code",
   "execution_count": 29,
   "id": "f7ac8961",
   "metadata": {},
   "outputs": [],
   "source": [
    "#cleaning(resumedata[resumedata['Category']=='INFORMATION-TECHNOLOGY']['Resume_str'].iloc[15])"
   ]
  },
  {
   "cell_type": "code",
   "execution_count": 30,
   "id": "ad85fe7b",
   "metadata": {},
   "outputs": [
    {
     "data": {
      "text/plain": [
       "890"
      ]
     },
     "execution_count": 30,
     "metadata": {},
     "output_type": "execute_result"
    }
   ],
   "source": [
    "len(cleaning(resumedata[resumedata['Category']=='INFORMATION-TECHNOLOGY']['Resume_str'].iloc[15]).split())"
   ]
  },
  {
   "cell_type": "code",
   "execution_count": 31,
   "id": "d898e56c",
   "metadata": {},
   "outputs": [
    {
     "data": {
      "text/html": [
       "<div>\n",
       "<style scoped>\n",
       "    .dataframe tbody tr th:only-of-type {\n",
       "        vertical-align: middle;\n",
       "    }\n",
       "\n",
       "    .dataframe tbody tr th {\n",
       "        vertical-align: top;\n",
       "    }\n",
       "\n",
       "    .dataframe thead th {\n",
       "        text-align: right;\n",
       "    }\n",
       "</style>\n",
       "<table border=\"1\" class=\"dataframe\">\n",
       "  <thead>\n",
       "    <tr style=\"text-align: right;\">\n",
       "      <th></th>\n",
       "      <th>ID</th>\n",
       "      <th>Resume_str</th>\n",
       "      <th>Category</th>\n",
       "      <th>cleaned_Resume</th>\n",
       "    </tr>\n",
       "  </thead>\n",
       "  <tbody>\n",
       "    <tr>\n",
       "      <th>0</th>\n",
       "      <td>16852973</td>\n",
       "      <td>HR ADMINISTRATOR/MARKETING ASSOCIATE\\...</td>\n",
       "      <td>HR</td>\n",
       "      <td>hr administrator keting associate hr administ...</td>\n",
       "    </tr>\n",
       "    <tr>\n",
       "      <th>1</th>\n",
       "      <td>22323967</td>\n",
       "      <td>HR SPECIALIST, US HR OPERATIONS      ...</td>\n",
       "      <td>HR</td>\n",
       "      <td>hr specialist us hr operations sum y versatil...</td>\n",
       "    </tr>\n",
       "    <tr>\n",
       "      <th>2</th>\n",
       "      <td>33176873</td>\n",
       "      <td>HR DIRECTOR       Summary      Over 2...</td>\n",
       "      <td>HR</td>\n",
       "      <td>hr director sum y over years experience in re...</td>\n",
       "    </tr>\n",
       "    <tr>\n",
       "      <th>3</th>\n",
       "      <td>27018550</td>\n",
       "      <td>HR SPECIALIST       Summary    Dedica...</td>\n",
       "      <td>HR</td>\n",
       "      <td>hr specialist sum y dedicated driven and dyna...</td>\n",
       "    </tr>\n",
       "    <tr>\n",
       "      <th>4</th>\n",
       "      <td>17812897</td>\n",
       "      <td>HR MANAGER         Skill Highlights  ...</td>\n",
       "      <td>HR</td>\n",
       "      <td>hr manager skill highlights hr skills hr depa...</td>\n",
       "    </tr>\n",
       "    <tr>\n",
       "      <th>...</th>\n",
       "      <td>...</td>\n",
       "      <td>...</td>\n",
       "      <td>...</td>\n",
       "      <td>...</td>\n",
       "    </tr>\n",
       "    <tr>\n",
       "      <th>951</th>\n",
       "      <td>28733974</td>\n",
       "      <td>EXECUTIVE DIRECTOR         Professi...</td>\n",
       "      <td>AGRICULTURE</td>\n",
       "      <td>executive director professional sum y an acco...</td>\n",
       "    </tr>\n",
       "    <tr>\n",
       "      <th>962</th>\n",
       "      <td>11676151</td>\n",
       "      <td>PATIENT ACCESS REP       Summary     ...</td>\n",
       "      <td>AGRICULTURE</td>\n",
       "      <td>patient access rep sum y dependable computer ...</td>\n",
       "    </tr>\n",
       "    <tr>\n",
       "      <th>969</th>\n",
       "      <td>28247753</td>\n",
       "      <td>COMMITTEE MEMBER         Executive Pr...</td>\n",
       "      <td>AGRICULTURE</td>\n",
       "      <td>committee member executive profile result dri...</td>\n",
       "    </tr>\n",
       "    <tr>\n",
       "      <th>922</th>\n",
       "      <td>30437583</td>\n",
       "      <td>PROGRAM ANALYST       Professional Su...</td>\n",
       "      <td>AGRICULTURE</td>\n",
       "      <td>program analyst professional sum y as a key m...</td>\n",
       "    </tr>\n",
       "    <tr>\n",
       "      <th>966</th>\n",
       "      <td>16661264</td>\n",
       "      <td>NATURAL RESOURCE SPECIALIST GS-12/5  ...</td>\n",
       "      <td>AGRICULTURE</td>\n",
       "      <td>natural resource specialist gs position apply...</td>\n",
       "    </tr>\n",
       "  </tbody>\n",
       "</table>\n",
       "<p>2693 rows × 4 columns</p>\n",
       "</div>"
      ],
      "text/plain": [
       "           ID                                         Resume_str     Category  \\\n",
       "0    16852973           HR ADMINISTRATOR/MARKETING ASSOCIATE\\...           HR   \n",
       "1    22323967           HR SPECIALIST, US HR OPERATIONS      ...           HR   \n",
       "2    33176873           HR DIRECTOR       Summary      Over 2...           HR   \n",
       "3    27018550           HR SPECIALIST       Summary    Dedica...           HR   \n",
       "4    17812897           HR MANAGER         Skill Highlights  ...           HR   \n",
       "..        ...                                                ...          ...   \n",
       "951  28733974             EXECUTIVE DIRECTOR         Professi...  AGRICULTURE   \n",
       "962  11676151           PATIENT ACCESS REP       Summary     ...  AGRICULTURE   \n",
       "969  28247753           COMMITTEE MEMBER         Executive Pr...  AGRICULTURE   \n",
       "922  30437583           PROGRAM ANALYST       Professional Su...  AGRICULTURE   \n",
       "966  16661264           NATURAL RESOURCE SPECIALIST GS-12/5  ...  AGRICULTURE   \n",
       "\n",
       "                                        cleaned_Resume  \n",
       "0     hr administrator keting associate hr administ...  \n",
       "1     hr specialist us hr operations sum y versatil...  \n",
       "2     hr director sum y over years experience in re...  \n",
       "3     hr specialist sum y dedicated driven and dyna...  \n",
       "4     hr manager skill highlights hr skills hr depa...  \n",
       "..                                                 ...  \n",
       "951   executive director professional sum y an acco...  \n",
       "962   patient access rep sum y dependable computer ...  \n",
       "969   committee member executive profile result dri...  \n",
       "922   program analyst professional sum y as a key m...  \n",
       "966   natural resource specialist gs position apply...  \n",
       "\n",
       "[2693 rows x 4 columns]"
      ]
     },
     "execution_count": 31,
     "metadata": {},
     "output_type": "execute_result"
    }
   ],
   "source": [
    "cleaned_Resume=resumedata['Resume_str'].apply(lambda x: cleaning(x))\n",
    "cleaned_Resume=pd.Series(cleaned_Resume,name='cleaned_Resume')\n",
    "resumedata=pd.concat([resumedata,cleaned_Resume],axis=1)\n",
    "resumedata"
   ]
  },
  {
   "cell_type": "code",
   "execution_count": 32,
   "id": "13d14f85",
   "metadata": {},
   "outputs": [
    {
     "data": {
      "text/plain": [
       "890"
      ]
     },
     "execution_count": 32,
     "metadata": {},
     "output_type": "execute_result"
    }
   ],
   "source": [
    "len(cleaning(resumedata[resumedata['Category']=='INFORMATION-TECHNOLOGY']['cleaned_Resume'].iloc[15]).split())"
   ]
  },
  {
   "cell_type": "markdown",
   "id": "cc537612",
   "metadata": {},
   "source": [
    "# stemming"
   ]
  },
  {
   "cell_type": "code",
   "execution_count": 33,
   "id": "3fc31fcb",
   "metadata": {},
   "outputs": [],
   "source": [
    "import spacy\n",
    "import nltk"
   ]
  },
  {
   "cell_type": "code",
   "execution_count": 34,
   "id": "42b3cedb",
   "metadata": {},
   "outputs": [],
   "source": [
    "from nltk.stem import PorterStemmer\n",
    "stemmer=PorterStemmer()"
   ]
  },
  {
   "cell_type": "code",
   "execution_count": 35,
   "id": "82281d61",
   "metadata": {},
   "outputs": [],
   "source": [
    "def stemming(text):\n",
    "    text=nltk.word_tokenize(text)\n",
    "    y=' '\n",
    "    for word in text:\n",
    "        x=stemmer.stem(word)\n",
    "        y=y+' '+x\n",
    "    return y.strip()"
   ]
  },
  {
   "cell_type": "code",
   "execution_count": 36,
   "id": "aa69fc9e",
   "metadata": {},
   "outputs": [],
   "source": [
    "#stemming(resumedata[resumedata['Category']=='INFORMATION-TECHNOLOGY']['cleaned_Resume'].iloc[15])"
   ]
  },
  {
   "cell_type": "code",
   "execution_count": 37,
   "id": "8bd3bda5",
   "metadata": {},
   "outputs": [
    {
     "data": {
      "text/plain": [
       "'i am eat'"
      ]
     },
     "execution_count": 37,
     "metadata": {},
     "output_type": "execute_result"
    }
   ],
   "source": [
    "stemming('i am eating')"
   ]
  },
  {
   "cell_type": "markdown",
   "id": "cbb09458",
   "metadata": {},
   "source": [
    "# lemmatization"
   ]
  },
  {
   "cell_type": "code",
   "execution_count": 38,
   "id": "2f7429d2",
   "metadata": {},
   "outputs": [],
   "source": [
    "nlp = spacy.load(\"en_core_web_sm\")"
   ]
  },
  {
   "cell_type": "code",
   "execution_count": 39,
   "id": "40588989",
   "metadata": {},
   "outputs": [],
   "source": [
    "def lemmatization(text):\n",
    "    doc=nlp(text)\n",
    "    y=' '\n",
    "    for token in doc:\n",
    "        x=token.lemma_\n",
    "        y=y+' '+x\n",
    "    return y.strip()"
   ]
  },
  {
   "cell_type": "code",
   "execution_count": 40,
   "id": "51540972",
   "metadata": {},
   "outputs": [
    {
     "data": {
      "text/plain": [
       "'eat eat eat eat adjustable raft ability meeting well'"
      ]
     },
     "execution_count": 40,
     "metadata": {},
     "output_type": "execute_result"
    }
   ],
   "source": [
    "lemmatization('eating eats eat ate adjustable rafting ability meeting better')"
   ]
  },
  {
   "cell_type": "code",
   "execution_count": 41,
   "id": "0bd01ebc",
   "metadata": {},
   "outputs": [
    {
     "data": {
      "text/plain": [
       "890"
      ]
     },
     "execution_count": 41,
     "metadata": {},
     "output_type": "execute_result"
    }
   ],
   "source": [
    "len(lemmatization(resumedata[resumedata['Category']=='INFORMATION-TECHNOLOGY']['cleaned_Resume'].iloc[15]).split())"
   ]
  },
  {
   "cell_type": "markdown",
   "id": "b7ab9c1f",
   "metadata": {},
   "source": [
    "# stop words"
   ]
  },
  {
   "cell_type": "code",
   "execution_count": 42,
   "id": "0031f1f6",
   "metadata": {},
   "outputs": [
    {
     "data": {
      "text/plain": [
       "326"
      ]
     },
     "execution_count": 42,
     "metadata": {},
     "output_type": "execute_result"
    }
   ],
   "source": [
    "from spacy.lang.en.stop_words import STOP_WORDS\n",
    "len(STOP_WORDS)"
   ]
  },
  {
   "cell_type": "code",
   "execution_count": 43,
   "id": "07f9060a",
   "metadata": {},
   "outputs": [],
   "source": [
    "def stop_words(text):\n",
    "    doc=nlp(text)\n",
    "    y=' '\n",
    "    for token in doc:\n",
    "        if not token.is_stop:\n",
    "            x=token.text\n",
    "            y=y+' '+x\n",
    "    return y.strip()"
   ]
  },
  {
   "cell_type": "code",
   "execution_count": 44,
   "id": "823fd786",
   "metadata": {},
   "outputs": [
    {
     "data": {
      "text/plain": [
       "'Musk wants time prepare trial'"
      ]
     },
     "execution_count": 44,
     "metadata": {},
     "output_type": "execute_result"
    }
   ],
   "source": [
    "stop_words(\"Musk wants time to prepare for a trial over his\")"
   ]
  },
  {
   "cell_type": "code",
   "execution_count": 45,
   "id": "816f7733",
   "metadata": {},
   "outputs": [],
   "source": [
    "#stop_words(resumedata[resumedata['Category']=='INFORMATION-TECHNOLOGY']['cleaned_Resume'].iloc[15])"
   ]
  },
  {
   "cell_type": "code",
   "execution_count": 46,
   "id": "9f5c131c",
   "metadata": {},
   "outputs": [
    {
     "data": {
      "text/plain": [
       "671"
      ]
     },
     "execution_count": 46,
     "metadata": {},
     "output_type": "execute_result"
    }
   ],
   "source": [
    "len(stop_words(resumedata[resumedata['Category']=='INFORMATION-TECHNOLOGY']['cleaned_Resume'].iloc[15]).split())"
   ]
  },
  {
   "cell_type": "markdown",
   "id": "8d026afc",
   "metadata": {},
   "source": [
    "#data after preprocessing"
   ]
  },
  {
   "cell_type": "code",
   "execution_count": 47,
   "id": "e3c0eee5",
   "metadata": {},
   "outputs": [],
   "source": [
    "resumedata['cleaned_Resume']=resumedata['cleaned_Resume'].apply(lambda x: lemmatization(x))\n",
    "resumedata['cleaned_Resume']=resumedata['cleaned_Resume'].apply(lambda x: stop_words(x))"
   ]
  },
  {
   "cell_type": "code",
   "execution_count": 48,
   "id": "0da365b6",
   "metadata": {},
   "outputs": [
    {
     "data": {
      "text/html": [
       "<div>\n",
       "<style scoped>\n",
       "    .dataframe tbody tr th:only-of-type {\n",
       "        vertical-align: middle;\n",
       "    }\n",
       "\n",
       "    .dataframe tbody tr th {\n",
       "        vertical-align: top;\n",
       "    }\n",
       "\n",
       "    .dataframe thead th {\n",
       "        text-align: right;\n",
       "    }\n",
       "</style>\n",
       "<table border=\"1\" class=\"dataframe\">\n",
       "  <thead>\n",
       "    <tr style=\"text-align: right;\">\n",
       "      <th></th>\n",
       "      <th>ID</th>\n",
       "      <th>Resume_str</th>\n",
       "      <th>Category</th>\n",
       "      <th>cleaned_Resume</th>\n",
       "    </tr>\n",
       "  </thead>\n",
       "  <tbody>\n",
       "    <tr>\n",
       "      <th>0</th>\n",
       "      <td>16852973</td>\n",
       "      <td>HR ADMINISTRATOR/MARKETING ASSOCIATE\\...</td>\n",
       "      <td>HR</td>\n",
       "      <td>hr administrator kete associate hr administrat...</td>\n",
       "    </tr>\n",
       "    <tr>\n",
       "      <th>1</th>\n",
       "      <td>22323967</td>\n",
       "      <td>HR SPECIALIST, US HR OPERATIONS      ...</td>\n",
       "      <td>HR</td>\n",
       "      <td>hr specialist hr operation sum y versatile med...</td>\n",
       "    </tr>\n",
       "    <tr>\n",
       "      <th>2</th>\n",
       "      <td>33176873</td>\n",
       "      <td>HR DIRECTOR       Summary      Over 2...</td>\n",
       "      <td>HR</td>\n",
       "      <td>hr director sum y year experience recruiting p...</td>\n",
       "    </tr>\n",
       "    <tr>\n",
       "      <th>3</th>\n",
       "      <td>27018550</td>\n",
       "      <td>HR SPECIALIST       Summary    Dedica...</td>\n",
       "      <td>HR</td>\n",
       "      <td>hr specialist sum y dedicate driven dynamic ye...</td>\n",
       "    </tr>\n",
       "    <tr>\n",
       "      <th>4</th>\n",
       "      <td>17812897</td>\n",
       "      <td>HR MANAGER         Skill Highlights  ...</td>\n",
       "      <td>HR</td>\n",
       "      <td>hr manager skill highlight hr skill hr departm...</td>\n",
       "    </tr>\n",
       "    <tr>\n",
       "      <th>...</th>\n",
       "      <td>...</td>\n",
       "      <td>...</td>\n",
       "      <td>...</td>\n",
       "      <td>...</td>\n",
       "    </tr>\n",
       "    <tr>\n",
       "      <th>951</th>\n",
       "      <td>28733974</td>\n",
       "      <td>EXECUTIVE DIRECTOR         Professi...</td>\n",
       "      <td>AGRICULTURE</td>\n",
       "      <td>executive director professional sum y accompli...</td>\n",
       "    </tr>\n",
       "    <tr>\n",
       "      <th>962</th>\n",
       "      <td>11676151</td>\n",
       "      <td>PATIENT ACCESS REP       Summary     ...</td>\n",
       "      <td>AGRICULTURE</td>\n",
       "      <td>patient access rep sum y dependable computer a...</td>\n",
       "    </tr>\n",
       "    <tr>\n",
       "      <th>969</th>\n",
       "      <td>28247753</td>\n",
       "      <td>COMMITTEE MEMBER         Executive Pr...</td>\n",
       "      <td>AGRICULTURE</td>\n",
       "      <td>committee member executive profile result driv...</td>\n",
       "    </tr>\n",
       "    <tr>\n",
       "      <th>922</th>\n",
       "      <td>30437583</td>\n",
       "      <td>PROGRAM ANALYST       Professional Su...</td>\n",
       "      <td>AGRICULTURE</td>\n",
       "      <td>program analyst professional sum y key member ...</td>\n",
       "    </tr>\n",
       "    <tr>\n",
       "      <th>966</th>\n",
       "      <td>16661264</td>\n",
       "      <td>NATURAL RESOURCE SPECIALIST GS-12/5  ...</td>\n",
       "      <td>AGRICULTURE</td>\n",
       "      <td>natural resource specialist gs position apply ...</td>\n",
       "    </tr>\n",
       "  </tbody>\n",
       "</table>\n",
       "<p>2693 rows × 4 columns</p>\n",
       "</div>"
      ],
      "text/plain": [
       "           ID                                         Resume_str     Category  \\\n",
       "0    16852973           HR ADMINISTRATOR/MARKETING ASSOCIATE\\...           HR   \n",
       "1    22323967           HR SPECIALIST, US HR OPERATIONS      ...           HR   \n",
       "2    33176873           HR DIRECTOR       Summary      Over 2...           HR   \n",
       "3    27018550           HR SPECIALIST       Summary    Dedica...           HR   \n",
       "4    17812897           HR MANAGER         Skill Highlights  ...           HR   \n",
       "..        ...                                                ...          ...   \n",
       "951  28733974             EXECUTIVE DIRECTOR         Professi...  AGRICULTURE   \n",
       "962  11676151           PATIENT ACCESS REP       Summary     ...  AGRICULTURE   \n",
       "969  28247753           COMMITTEE MEMBER         Executive Pr...  AGRICULTURE   \n",
       "922  30437583           PROGRAM ANALYST       Professional Su...  AGRICULTURE   \n",
       "966  16661264           NATURAL RESOURCE SPECIALIST GS-12/5  ...  AGRICULTURE   \n",
       "\n",
       "                                        cleaned_Resume  \n",
       "0    hr administrator kete associate hr administrat...  \n",
       "1    hr specialist hr operation sum y versatile med...  \n",
       "2    hr director sum y year experience recruiting p...  \n",
       "3    hr specialist sum y dedicate driven dynamic ye...  \n",
       "4    hr manager skill highlight hr skill hr departm...  \n",
       "..                                                 ...  \n",
       "951  executive director professional sum y accompli...  \n",
       "962  patient access rep sum y dependable computer a...  \n",
       "969  committee member executive profile result driv...  \n",
       "922  program analyst professional sum y key member ...  \n",
       "966  natural resource specialist gs position apply ...  \n",
       "\n",
       "[2693 rows x 4 columns]"
      ]
     },
     "execution_count": 48,
     "metadata": {},
     "output_type": "execute_result"
    }
   ],
   "source": [
    "resumedata"
   ]
  },
  {
   "cell_type": "code",
   "execution_count": 49,
   "id": "50cf28f2",
   "metadata": {},
   "outputs": [],
   "source": [
    "#resumedata[resumedata['Category']=='INFORMATION-TECHNOLOGY']['cleaned_Resume'].iloc[15]"
   ]
  },
  {
   "cell_type": "code",
   "execution_count": 50,
   "id": "887cd514",
   "metadata": {},
   "outputs": [
    {
     "name": "stdout",
     "output_type": "stream",
     "text": [
      "Empty CSV file 'empty_file.csv' created in 'C:\\resume_final_csv'\n"
     ]
    }
   ],
   "source": [
    "import os\n",
    "\n",
    "folder_path = r\"C:\\resume_final_csv\"\n",
    "file_name = r'empty_file.csv'\n",
    "\n",
    "# Concatenate the folder path and file name\n",
    "file_path = os.path.join(folder_path, file_name)\n",
    "\n",
    "# Create an empty CSV file\n",
    "with open(file_path, 'w') as file:\n",
    "    pass\n",
    "\n",
    "print(f\"Empty CSV file '{file_name}' created in '{folder_path}'\")\n"
   ]
  },
  {
   "cell_type": "markdown",
   "id": "089550c1",
   "metadata": {},
   "source": [
    "# label encoding"
   ]
  },
  {
   "cell_type": "code",
   "execution_count": 51,
   "id": "e85e5098",
   "metadata": {},
   "outputs": [],
   "source": [
    "from sklearn.preprocessing import LabelEncoder\n",
    "encoder=LabelEncoder()"
   ]
  },
  {
   "cell_type": "code",
   "execution_count": 52,
   "id": "90e1014c",
   "metadata": {},
   "outputs": [],
   "source": [
    "resumedata['encoded_Skills']=encoder.fit_transform(resumedata['Category'])"
   ]
  },
  {
   "cell_type": "code",
   "execution_count": 53,
   "id": "da72ae96",
   "metadata": {},
   "outputs": [
    {
     "data": {
      "text/plain": [
       "20    120\n",
       "9     120\n",
       "16    118\n",
       "10    118\n",
       "0     118\n",
       "1     118\n",
       "15    118\n",
       "17    117\n",
       "6     117\n",
       "22    116\n",
       "12    115\n",
       "7     115\n",
       "18    115\n",
       "11    112\n",
       "21    111\n",
       "8     110\n",
       "5     110\n",
       "19    110\n",
       "2     110\n",
       "13    107\n",
       "4     103\n",
       "23    102\n",
       "3      97\n",
       "14     96\n",
       "Name: encoded_Skills, dtype: int64"
      ]
     },
     "execution_count": 53,
     "metadata": {},
     "output_type": "execute_result"
    }
   ],
   "source": [
    "resumedata.encoded_Skills.value_counts()"
   ]
  },
  {
   "cell_type": "code",
   "execution_count": 54,
   "id": "7ae80a7c",
   "metadata": {},
   "outputs": [
    {
     "data": {
      "text/plain": [
       "0"
      ]
     },
     "execution_count": 54,
     "metadata": {},
     "output_type": "execute_result"
    }
   ],
   "source": [
    "resumedata['cleaned_Resume'].isnull().sum()"
   ]
  },
  {
   "cell_type": "code",
   "execution_count": 55,
   "id": "eb3329a1",
   "metadata": {},
   "outputs": [
    {
     "data": {
      "text/plain": [
       "''"
      ]
     },
     "execution_count": 55,
     "metadata": {},
     "output_type": "execute_result"
    }
   ],
   "source": [
    "resumedata['cleaned_Resume'][656]"
   ]
  },
  {
   "cell_type": "code",
   "execution_count": 56,
   "id": "68fe2456",
   "metadata": {},
   "outputs": [],
   "source": [
    "resumedata.to_csv(r\"C:\\resume_final_csv\\empty_file.csv\",index=False)"
   ]
  },
  {
   "cell_type": "code",
   "execution_count": 57,
   "id": "5640fc22",
   "metadata": {},
   "outputs": [
    {
     "data": {
      "text/html": [
       "<div>\n",
       "<style scoped>\n",
       "    .dataframe tbody tr th:only-of-type {\n",
       "        vertical-align: middle;\n",
       "    }\n",
       "\n",
       "    .dataframe tbody tr th {\n",
       "        vertical-align: top;\n",
       "    }\n",
       "\n",
       "    .dataframe thead th {\n",
       "        text-align: right;\n",
       "    }\n",
       "</style>\n",
       "<table border=\"1\" class=\"dataframe\">\n",
       "  <thead>\n",
       "    <tr style=\"text-align: right;\">\n",
       "      <th></th>\n",
       "      <th>ID</th>\n",
       "      <th>Resume_str</th>\n",
       "      <th>Category</th>\n",
       "      <th>cleaned_Resume</th>\n",
       "      <th>encoded_Skills</th>\n",
       "    </tr>\n",
       "  </thead>\n",
       "  <tbody>\n",
       "    <tr>\n",
       "      <th>0</th>\n",
       "      <td>16852973</td>\n",
       "      <td>HR ADMINISTRATOR/MARKETING ASSOCIATE\\...</td>\n",
       "      <td>HR</td>\n",
       "      <td>hr administrator kete associate hr administrat...</td>\n",
       "      <td>19</td>\n",
       "    </tr>\n",
       "    <tr>\n",
       "      <th>1</th>\n",
       "      <td>22323967</td>\n",
       "      <td>HR SPECIALIST, US HR OPERATIONS      ...</td>\n",
       "      <td>HR</td>\n",
       "      <td>hr specialist hr operation sum y versatile med...</td>\n",
       "      <td>19</td>\n",
       "    </tr>\n",
       "    <tr>\n",
       "      <th>2</th>\n",
       "      <td>33176873</td>\n",
       "      <td>HR DIRECTOR       Summary      Over 2...</td>\n",
       "      <td>HR</td>\n",
       "      <td>hr director sum y year experience recruiting p...</td>\n",
       "      <td>19</td>\n",
       "    </tr>\n",
       "    <tr>\n",
       "      <th>3</th>\n",
       "      <td>27018550</td>\n",
       "      <td>HR SPECIALIST       Summary    Dedica...</td>\n",
       "      <td>HR</td>\n",
       "      <td>hr specialist sum y dedicate driven dynamic ye...</td>\n",
       "      <td>19</td>\n",
       "    </tr>\n",
       "    <tr>\n",
       "      <th>4</th>\n",
       "      <td>17812897</td>\n",
       "      <td>HR MANAGER         Skill Highlights  ...</td>\n",
       "      <td>HR</td>\n",
       "      <td>hr manager skill highlight hr skill hr departm...</td>\n",
       "      <td>19</td>\n",
       "    </tr>\n",
       "    <tr>\n",
       "      <th>...</th>\n",
       "      <td>...</td>\n",
       "      <td>...</td>\n",
       "      <td>...</td>\n",
       "      <td>...</td>\n",
       "      <td>...</td>\n",
       "    </tr>\n",
       "    <tr>\n",
       "      <th>951</th>\n",
       "      <td>28733974</td>\n",
       "      <td>EXECUTIVE DIRECTOR         Professi...</td>\n",
       "      <td>AGRICULTURE</td>\n",
       "      <td>executive director professional sum y accompli...</td>\n",
       "      <td>2</td>\n",
       "    </tr>\n",
       "    <tr>\n",
       "      <th>962</th>\n",
       "      <td>11676151</td>\n",
       "      <td>PATIENT ACCESS REP       Summary     ...</td>\n",
       "      <td>AGRICULTURE</td>\n",
       "      <td>patient access rep sum y dependable computer a...</td>\n",
       "      <td>2</td>\n",
       "    </tr>\n",
       "    <tr>\n",
       "      <th>969</th>\n",
       "      <td>28247753</td>\n",
       "      <td>COMMITTEE MEMBER         Executive Pr...</td>\n",
       "      <td>AGRICULTURE</td>\n",
       "      <td>committee member executive profile result driv...</td>\n",
       "      <td>2</td>\n",
       "    </tr>\n",
       "    <tr>\n",
       "      <th>922</th>\n",
       "      <td>30437583</td>\n",
       "      <td>PROGRAM ANALYST       Professional Su...</td>\n",
       "      <td>AGRICULTURE</td>\n",
       "      <td>program analyst professional sum y key member ...</td>\n",
       "      <td>2</td>\n",
       "    </tr>\n",
       "    <tr>\n",
       "      <th>966</th>\n",
       "      <td>16661264</td>\n",
       "      <td>NATURAL RESOURCE SPECIALIST GS-12/5  ...</td>\n",
       "      <td>AGRICULTURE</td>\n",
       "      <td>natural resource specialist gs position apply ...</td>\n",
       "      <td>2</td>\n",
       "    </tr>\n",
       "  </tbody>\n",
       "</table>\n",
       "<p>2693 rows × 5 columns</p>\n",
       "</div>"
      ],
      "text/plain": [
       "           ID                                         Resume_str     Category  \\\n",
       "0    16852973           HR ADMINISTRATOR/MARKETING ASSOCIATE\\...           HR   \n",
       "1    22323967           HR SPECIALIST, US HR OPERATIONS      ...           HR   \n",
       "2    33176873           HR DIRECTOR       Summary      Over 2...           HR   \n",
       "3    27018550           HR SPECIALIST       Summary    Dedica...           HR   \n",
       "4    17812897           HR MANAGER         Skill Highlights  ...           HR   \n",
       "..        ...                                                ...          ...   \n",
       "951  28733974             EXECUTIVE DIRECTOR         Professi...  AGRICULTURE   \n",
       "962  11676151           PATIENT ACCESS REP       Summary     ...  AGRICULTURE   \n",
       "969  28247753           COMMITTEE MEMBER         Executive Pr...  AGRICULTURE   \n",
       "922  30437583           PROGRAM ANALYST       Professional Su...  AGRICULTURE   \n",
       "966  16661264           NATURAL RESOURCE SPECIALIST GS-12/5  ...  AGRICULTURE   \n",
       "\n",
       "                                        cleaned_Resume  encoded_Skills  \n",
       "0    hr administrator kete associate hr administrat...              19  \n",
       "1    hr specialist hr operation sum y versatile med...              19  \n",
       "2    hr director sum y year experience recruiting p...              19  \n",
       "3    hr specialist sum y dedicate driven dynamic ye...              19  \n",
       "4    hr manager skill highlight hr skill hr departm...              19  \n",
       "..                                                 ...             ...  \n",
       "951  executive director professional sum y accompli...               2  \n",
       "962  patient access rep sum y dependable computer a...               2  \n",
       "969  committee member executive profile result driv...               2  \n",
       "922  program analyst professional sum y key member ...               2  \n",
       "966  natural resource specialist gs position apply ...               2  \n",
       "\n",
       "[2693 rows x 5 columns]"
      ]
     },
     "execution_count": 57,
     "metadata": {},
     "output_type": "execute_result"
    }
   ],
   "source": [
    "resumedata"
   ]
  },
  {
   "cell_type": "code",
   "execution_count": 58,
   "id": "ba227e8f",
   "metadata": {},
   "outputs": [
    {
     "data": {
      "text/html": [
       "<div>\n",
       "<style scoped>\n",
       "    .dataframe tbody tr th:only-of-type {\n",
       "        vertical-align: middle;\n",
       "    }\n",
       "\n",
       "    .dataframe tbody tr th {\n",
       "        vertical-align: top;\n",
       "    }\n",
       "\n",
       "    .dataframe thead th {\n",
       "        text-align: right;\n",
       "    }\n",
       "</style>\n",
       "<table border=\"1\" class=\"dataframe\">\n",
       "  <thead>\n",
       "    <tr style=\"text-align: right;\">\n",
       "      <th></th>\n",
       "      <th>ID</th>\n",
       "      <th>Resume_str</th>\n",
       "      <th>Category</th>\n",
       "      <th>cleaned_Resume</th>\n",
       "      <th>encoded_Skills</th>\n",
       "    </tr>\n",
       "  </thead>\n",
       "  <tbody>\n",
       "    <tr>\n",
       "      <th>0</th>\n",
       "      <td>16852973</td>\n",
       "      <td>HR ADMINISTRATOR/MARKETING ASSOCIATE\\...</td>\n",
       "      <td>HR</td>\n",
       "      <td>hr administrator kete associate hr administrat...</td>\n",
       "      <td>19</td>\n",
       "    </tr>\n",
       "    <tr>\n",
       "      <th>1</th>\n",
       "      <td>22323967</td>\n",
       "      <td>HR SPECIALIST, US HR OPERATIONS      ...</td>\n",
       "      <td>HR</td>\n",
       "      <td>hr specialist hr operation sum y versatile med...</td>\n",
       "      <td>19</td>\n",
       "    </tr>\n",
       "    <tr>\n",
       "      <th>2</th>\n",
       "      <td>33176873</td>\n",
       "      <td>HR DIRECTOR       Summary      Over 2...</td>\n",
       "      <td>HR</td>\n",
       "      <td>hr director sum y year experience recruiting p...</td>\n",
       "      <td>19</td>\n",
       "    </tr>\n",
       "    <tr>\n",
       "      <th>3</th>\n",
       "      <td>27018550</td>\n",
       "      <td>HR SPECIALIST       Summary    Dedica...</td>\n",
       "      <td>HR</td>\n",
       "      <td>hr specialist sum y dedicate driven dynamic ye...</td>\n",
       "      <td>19</td>\n",
       "    </tr>\n",
       "    <tr>\n",
       "      <th>4</th>\n",
       "      <td>17812897</td>\n",
       "      <td>HR MANAGER         Skill Highlights  ...</td>\n",
       "      <td>HR</td>\n",
       "      <td>hr manager skill highlight hr skill hr departm...</td>\n",
       "      <td>19</td>\n",
       "    </tr>\n",
       "    <tr>\n",
       "      <th>...</th>\n",
       "      <td>...</td>\n",
       "      <td>...</td>\n",
       "      <td>...</td>\n",
       "      <td>...</td>\n",
       "      <td>...</td>\n",
       "    </tr>\n",
       "    <tr>\n",
       "      <th>2688</th>\n",
       "      <td>28733974</td>\n",
       "      <td>EXECUTIVE DIRECTOR         Professi...</td>\n",
       "      <td>AGRICULTURE</td>\n",
       "      <td>executive director professional sum y accompli...</td>\n",
       "      <td>2</td>\n",
       "    </tr>\n",
       "    <tr>\n",
       "      <th>2689</th>\n",
       "      <td>11676151</td>\n",
       "      <td>PATIENT ACCESS REP       Summary     ...</td>\n",
       "      <td>AGRICULTURE</td>\n",
       "      <td>patient access rep sum y dependable computer a...</td>\n",
       "      <td>2</td>\n",
       "    </tr>\n",
       "    <tr>\n",
       "      <th>2690</th>\n",
       "      <td>28247753</td>\n",
       "      <td>COMMITTEE MEMBER         Executive Pr...</td>\n",
       "      <td>AGRICULTURE</td>\n",
       "      <td>committee member executive profile result driv...</td>\n",
       "      <td>2</td>\n",
       "    </tr>\n",
       "    <tr>\n",
       "      <th>2691</th>\n",
       "      <td>30437583</td>\n",
       "      <td>PROGRAM ANALYST       Professional Su...</td>\n",
       "      <td>AGRICULTURE</td>\n",
       "      <td>program analyst professional sum y key member ...</td>\n",
       "      <td>2</td>\n",
       "    </tr>\n",
       "    <tr>\n",
       "      <th>2692</th>\n",
       "      <td>16661264</td>\n",
       "      <td>NATURAL RESOURCE SPECIALIST GS-12/5  ...</td>\n",
       "      <td>AGRICULTURE</td>\n",
       "      <td>natural resource specialist gs position apply ...</td>\n",
       "      <td>2</td>\n",
       "    </tr>\n",
       "  </tbody>\n",
       "</table>\n",
       "<p>2693 rows × 5 columns</p>\n",
       "</div>"
      ],
      "text/plain": [
       "            ID                                         Resume_str  \\\n",
       "0     16852973           HR ADMINISTRATOR/MARKETING ASSOCIATE\\...   \n",
       "1     22323967           HR SPECIALIST, US HR OPERATIONS      ...   \n",
       "2     33176873           HR DIRECTOR       Summary      Over 2...   \n",
       "3     27018550           HR SPECIALIST       Summary    Dedica...   \n",
       "4     17812897           HR MANAGER         Skill Highlights  ...   \n",
       "...        ...                                                ...   \n",
       "2688  28733974             EXECUTIVE DIRECTOR         Professi...   \n",
       "2689  11676151           PATIENT ACCESS REP       Summary     ...   \n",
       "2690  28247753           COMMITTEE MEMBER         Executive Pr...   \n",
       "2691  30437583           PROGRAM ANALYST       Professional Su...   \n",
       "2692  16661264           NATURAL RESOURCE SPECIALIST GS-12/5  ...   \n",
       "\n",
       "         Category                                     cleaned_Resume  \\\n",
       "0              HR  hr administrator kete associate hr administrat...   \n",
       "1              HR  hr specialist hr operation sum y versatile med...   \n",
       "2              HR  hr director sum y year experience recruiting p...   \n",
       "3              HR  hr specialist sum y dedicate driven dynamic ye...   \n",
       "4              HR  hr manager skill highlight hr skill hr departm...   \n",
       "...           ...                                                ...   \n",
       "2688  AGRICULTURE  executive director professional sum y accompli...   \n",
       "2689  AGRICULTURE  patient access rep sum y dependable computer a...   \n",
       "2690  AGRICULTURE  committee member executive profile result driv...   \n",
       "2691  AGRICULTURE  program analyst professional sum y key member ...   \n",
       "2692  AGRICULTURE  natural resource specialist gs position apply ...   \n",
       "\n",
       "      encoded_Skills  \n",
       "0                 19  \n",
       "1                 19  \n",
       "2                 19  \n",
       "3                 19  \n",
       "4                 19  \n",
       "...              ...  \n",
       "2688               2  \n",
       "2689               2  \n",
       "2690               2  \n",
       "2691               2  \n",
       "2692               2  \n",
       "\n",
       "[2693 rows x 5 columns]"
      ]
     },
     "execution_count": 58,
     "metadata": {},
     "output_type": "execute_result"
    }
   ],
   "source": [
    "data=pd.read_csv(r\"C:\\resume_final_csv\\empty_file.csv\")\n",
    "data"
   ]
  },
  {
   "cell_type": "code",
   "execution_count": 59,
   "id": "9316f85c",
   "metadata": {},
   "outputs": [
    {
     "data": {
      "text/plain": [
       "1"
      ]
     },
     "execution_count": 59,
     "metadata": {},
     "output_type": "execute_result"
    }
   ],
   "source": [
    "data['cleaned_Resume'].isnull().sum()"
   ]
  },
  {
   "cell_type": "code",
   "execution_count": 60,
   "id": "1fcf324e",
   "metadata": {},
   "outputs": [],
   "source": [
    "category_mapping = dict(zip(resumedata['Category'], resumedata['encoded_Skills']))"
   ]
  },
  {
   "cell_type": "code",
   "execution_count": 61,
   "id": "4d682e5b",
   "metadata": {},
   "outputs": [
    {
     "name": "stdout",
     "output_type": "stream",
     "text": [
      "HR->19\n",
      "DESIGNER->13\n",
      "INFORMATION-TECHNOLOGY->20\n",
      "TEACHER->23\n",
      "ADVOCATE->1\n",
      "BUSINESS-DEVELOPMENT->9\n",
      "HEALTHCARE->18\n",
      "FITNESS->17\n",
      "SALES->22\n",
      "CONSULTANT->12\n",
      "DIGITAL-MEDIA->14\n",
      "CHEF->10\n",
      "FINANCE->16\n",
      "APPAREL->3\n",
      "ENGINEERING->15\n",
      "ACCOUNTANT->0\n",
      "CONSTRUCTION->11\n",
      "PUBLIC-RELATIONS->21\n",
      "BANKING->7\n",
      "ARTS->4\n",
      "AVIATION->6\n",
      "BPO->8\n",
      "AUTOMOBILE->5\n",
      "AGRICULTURE->2\n"
     ]
    }
   ],
   "source": [
    "for category, label in category_mapping.items():\n",
    "    print(f\"{category}->{label}\")"
   ]
  },
  {
   "cell_type": "code",
   "execution_count": 62,
   "id": "8ae7487a",
   "metadata": {},
   "outputs": [
    {
     "data": {
      "text/html": [
       "<div>\n",
       "<style scoped>\n",
       "    .dataframe tbody tr th:only-of-type {\n",
       "        vertical-align: middle;\n",
       "    }\n",
       "\n",
       "    .dataframe tbody tr th {\n",
       "        vertical-align: top;\n",
       "    }\n",
       "\n",
       "    .dataframe thead th {\n",
       "        text-align: right;\n",
       "    }\n",
       "</style>\n",
       "<table border=\"1\" class=\"dataframe\">\n",
       "  <thead>\n",
       "    <tr style=\"text-align: right;\">\n",
       "      <th></th>\n",
       "      <th>ID</th>\n",
       "      <th>Resume_str</th>\n",
       "      <th>Category</th>\n",
       "      <th>cleaned_Resume</th>\n",
       "      <th>encoded_Skills</th>\n",
       "    </tr>\n",
       "  </thead>\n",
       "  <tbody>\n",
       "    <tr>\n",
       "      <th>0</th>\n",
       "      <td>16852973</td>\n",
       "      <td>HR ADMINISTRATOR/MARKETING ASSOCIATE\\...</td>\n",
       "      <td>HR</td>\n",
       "      <td>hr administrator kete associate hr administrat...</td>\n",
       "      <td>19</td>\n",
       "    </tr>\n",
       "    <tr>\n",
       "      <th>1</th>\n",
       "      <td>22323967</td>\n",
       "      <td>HR SPECIALIST, US HR OPERATIONS      ...</td>\n",
       "      <td>HR</td>\n",
       "      <td>hr specialist hr operation sum y versatile med...</td>\n",
       "      <td>19</td>\n",
       "    </tr>\n",
       "    <tr>\n",
       "      <th>2</th>\n",
       "      <td>33176873</td>\n",
       "      <td>HR DIRECTOR       Summary      Over 2...</td>\n",
       "      <td>HR</td>\n",
       "      <td>hr director sum y year experience recruiting p...</td>\n",
       "      <td>19</td>\n",
       "    </tr>\n",
       "    <tr>\n",
       "      <th>3</th>\n",
       "      <td>27018550</td>\n",
       "      <td>HR SPECIALIST       Summary    Dedica...</td>\n",
       "      <td>HR</td>\n",
       "      <td>hr specialist sum y dedicate driven dynamic ye...</td>\n",
       "      <td>19</td>\n",
       "    </tr>\n",
       "    <tr>\n",
       "      <th>4</th>\n",
       "      <td>17812897</td>\n",
       "      <td>HR MANAGER         Skill Highlights  ...</td>\n",
       "      <td>HR</td>\n",
       "      <td>hr manager skill highlight hr skill hr departm...</td>\n",
       "      <td>19</td>\n",
       "    </tr>\n",
       "  </tbody>\n",
       "</table>\n",
       "</div>"
      ],
      "text/plain": [
       "         ID                                         Resume_str Category  \\\n",
       "0  16852973           HR ADMINISTRATOR/MARKETING ASSOCIATE\\...       HR   \n",
       "1  22323967           HR SPECIALIST, US HR OPERATIONS      ...       HR   \n",
       "2  33176873           HR DIRECTOR       Summary      Over 2...       HR   \n",
       "3  27018550           HR SPECIALIST       Summary    Dedica...       HR   \n",
       "4  17812897           HR MANAGER         Skill Highlights  ...       HR   \n",
       "\n",
       "                                      cleaned_Resume  encoded_Skills  \n",
       "0  hr administrator kete associate hr administrat...              19  \n",
       "1  hr specialist hr operation sum y versatile med...              19  \n",
       "2  hr director sum y year experience recruiting p...              19  \n",
       "3  hr specialist sum y dedicate driven dynamic ye...              19  \n",
       "4  hr manager skill highlight hr skill hr departm...              19  "
      ]
     },
     "execution_count": 62,
     "metadata": {},
     "output_type": "execute_result"
    }
   ],
   "source": [
    "resume_data_file=pd.read_csv(r\"C:\\resume_final_csv\\empty_file.csv\")\n",
    "resume_data_file.head()"
   ]
  },
  {
   "cell_type": "markdown",
   "id": "a556e8d1",
   "metadata": {},
   "source": [
    "# vectorization"
   ]
  },
  {
   "cell_type": "markdown",
   "id": "994fcd32",
   "metadata": {},
   "source": [
    "# bow"
   ]
  },
  {
   "cell_type": "code",
   "execution_count": 63,
   "id": "ea4d451a",
   "metadata": {},
   "outputs": [],
   "source": [
    "from sklearn.model_selection import train_test_split\n",
    "from sklearn.feature_extraction.text import CountVectorizer"
   ]
  },
  {
   "cell_type": "code",
   "execution_count": 64,
   "id": "d74d99ef",
   "metadata": {},
   "outputs": [],
   "source": [
    "requriedtext=resumedata['cleaned_Resume']\n",
    "requriedtarget=resumedata['encoded_Skills']"
   ]
  },
  {
   "cell_type": "code",
   "execution_count": 65,
   "id": "e0a24583",
   "metadata": {},
   "outputs": [],
   "source": [
    "v=CountVectorizer()\n",
    "x_bow=v.fit_transform(requriedtext).toarray()"
   ]
  },
  {
   "cell_type": "code",
   "execution_count": 66,
   "id": "937b0c5a",
   "metadata": {},
   "outputs": [],
   "source": [
    "from scipy.sparse import csr_matrix"
   ]
  },
  {
   "cell_type": "code",
   "execution_count": 67,
   "id": "b1d0cb0f",
   "metadata": {},
   "outputs": [],
   "source": [
    "movie_sparse=csr_matrix(x_bow)"
   ]
  },
  {
   "cell_type": "code",
   "execution_count": 68,
   "id": "738bf29c",
   "metadata": {},
   "outputs": [
    {
     "data": {
      "text/plain": [
       "(1, 31623)"
      ]
     },
     "execution_count": 68,
     "metadata": {},
     "output_type": "execute_result"
    }
   ],
   "source": [
    "movie_sparse[0].shape"
   ]
  },
  {
   "cell_type": "code",
   "execution_count": 69,
   "id": "25edaf65",
   "metadata": {},
   "outputs": [],
   "source": [
    "x_train_temp, x_test_bow, y_train_temp, y_test_bow = train_test_split(movie_sparse,requriedtarget, test_size=0.1, stratify=requriedtarget, random_state=0)\n",
    "x_train_bow, x_val_bow, y_train_bow, y_val_bow = train_test_split(x_train_temp, y_train_temp, test_size=0.1, stratify=y_train_temp, random_state=0)"
   ]
  },
  {
   "cell_type": "code",
   "execution_count": 70,
   "id": "2cb97860",
   "metadata": {},
   "outputs": [
    {
     "data": {
      "text/plain": [
       "<1x31623 sparse matrix of type '<class 'numpy.int64'>'\n",
       "\twith 350 stored elements in Compressed Sparse Row format>"
      ]
     },
     "execution_count": 70,
     "metadata": {},
     "output_type": "execute_result"
    }
   ],
   "source": [
    "x_train_bow[0]"
   ]
  },
  {
   "cell_type": "markdown",
   "id": "f5dec2e2",
   "metadata": {},
   "source": [
    "# TF-IDF"
   ]
  },
  {
   "cell_type": "code",
   "execution_count": 71,
   "id": "e8096fb9",
   "metadata": {},
   "outputs": [],
   "source": [
    "from sklearn.feature_extraction.text import TfidfVectorizer"
   ]
  },
  {
   "cell_type": "code",
   "execution_count": 72,
   "id": "61cf91bb",
   "metadata": {},
   "outputs": [],
   "source": [
    "#why 1500 taken here"
   ]
  },
  {
   "cell_type": "code",
   "execution_count": 73,
   "id": "28ee26c5",
   "metadata": {},
   "outputs": [],
   "source": [
    "tfid=TfidfVectorizer(\n",
    "    sublinear_tf=True,\n",
    "    stop_words='english',\n",
    "    max_features=1500\n",
    ")\n",
    "x_tfid=tfid.fit_transform(requriedtext).toarray()"
   ]
  },
  {
   "cell_type": "code",
   "execution_count": 74,
   "id": "68227b37",
   "metadata": {},
   "outputs": [],
   "source": [
    "from scipy.sparse import csr_matrix\n",
    "movie_sparse_tf=csr_matrix(x_tfid)"
   ]
  },
  {
   "cell_type": "code",
   "execution_count": 75,
   "id": "18c8d530",
   "metadata": {},
   "outputs": [],
   "source": [
    "x_train_temp, x_test_tf, y_train_temp, y_test_tf = train_test_split(movie_sparse_tf, requriedtarget, test_size=0.1, stratify=requriedtarget, random_state=0)\n",
    "x_train_tf, x_val_tf, y_train_tf, y_val_tf = train_test_split(x_train_temp, y_train_temp, test_size=0.1, stratify=y_train_temp, random_state=0)"
   ]
  },
  {
   "cell_type": "code",
   "execution_count": 76,
   "id": "4e924c8d",
   "metadata": {},
   "outputs": [
    {
     "data": {
      "text/plain": [
       "<1x1500 sparse matrix of type '<class 'numpy.float64'>'\n",
       "\twith 246 stored elements in Compressed Sparse Row format>"
      ]
     },
     "execution_count": 76,
     "metadata": {},
     "output_type": "execute_result"
    }
   ],
   "source": [
    "x_train_tf[0]"
   ]
  },
  {
   "cell_type": "code",
   "execution_count": 77,
   "id": "66562e25",
   "metadata": {},
   "outputs": [
    {
     "data": {
      "text/plain": [
       "(2180, 1500)"
      ]
     },
     "execution_count": 77,
     "metadata": {},
     "output_type": "execute_result"
    }
   ],
   "source": [
    "x_train_tf.shape"
   ]
  },
  {
   "cell_type": "markdown",
   "id": "561b20a6",
   "metadata": {},
   "source": [
    "# model training"
   ]
  },
  {
   "cell_type": "code",
   "execution_count": 78,
   "id": "6740a7b1",
   "metadata": {},
   "outputs": [],
   "source": [
    "from sklearn.neighbors import KNeighborsClassifier\n",
    "from sklearn.metrics import classification_report\n",
    "from sklearn.metrics import confusion_matrix"
   ]
  },
  {
   "cell_type": "markdown",
   "id": "1effe219",
   "metadata": {},
   "source": [
    "# 1)kneighbors"
   ]
  },
  {
   "cell_type": "code",
   "execution_count": 79,
   "id": "25789348",
   "metadata": {},
   "outputs": [
    {
     "data": {
      "text/html": [
       "<style>#sk-container-id-1 {color: black;background-color: white;}#sk-container-id-1 pre{padding: 0;}#sk-container-id-1 div.sk-toggleable {background-color: white;}#sk-container-id-1 label.sk-toggleable__label {cursor: pointer;display: block;width: 100%;margin-bottom: 0;padding: 0.3em;box-sizing: border-box;text-align: center;}#sk-container-id-1 label.sk-toggleable__label-arrow:before {content: \"▸\";float: left;margin-right: 0.25em;color: #696969;}#sk-container-id-1 label.sk-toggleable__label-arrow:hover:before {color: black;}#sk-container-id-1 div.sk-estimator:hover label.sk-toggleable__label-arrow:before {color: black;}#sk-container-id-1 div.sk-toggleable__content {max-height: 0;max-width: 0;overflow: hidden;text-align: left;background-color: #f0f8ff;}#sk-container-id-1 div.sk-toggleable__content pre {margin: 0.2em;color: black;border-radius: 0.25em;background-color: #f0f8ff;}#sk-container-id-1 input.sk-toggleable__control:checked~div.sk-toggleable__content {max-height: 200px;max-width: 100%;overflow: auto;}#sk-container-id-1 input.sk-toggleable__control:checked~label.sk-toggleable__label-arrow:before {content: \"▾\";}#sk-container-id-1 div.sk-estimator input.sk-toggleable__control:checked~label.sk-toggleable__label {background-color: #d4ebff;}#sk-container-id-1 div.sk-label input.sk-toggleable__control:checked~label.sk-toggleable__label {background-color: #d4ebff;}#sk-container-id-1 input.sk-hidden--visually {border: 0;clip: rect(1px 1px 1px 1px);clip: rect(1px, 1px, 1px, 1px);height: 1px;margin: -1px;overflow: hidden;padding: 0;position: absolute;width: 1px;}#sk-container-id-1 div.sk-estimator {font-family: monospace;background-color: #f0f8ff;border: 1px dotted black;border-radius: 0.25em;box-sizing: border-box;margin-bottom: 0.5em;}#sk-container-id-1 div.sk-estimator:hover {background-color: #d4ebff;}#sk-container-id-1 div.sk-parallel-item::after {content: \"\";width: 100%;border-bottom: 1px solid gray;flex-grow: 1;}#sk-container-id-1 div.sk-label:hover label.sk-toggleable__label {background-color: #d4ebff;}#sk-container-id-1 div.sk-serial::before {content: \"\";position: absolute;border-left: 1px solid gray;box-sizing: border-box;top: 0;bottom: 0;left: 50%;z-index: 0;}#sk-container-id-1 div.sk-serial {display: flex;flex-direction: column;align-items: center;background-color: white;padding-right: 0.2em;padding-left: 0.2em;position: relative;}#sk-container-id-1 div.sk-item {position: relative;z-index: 1;}#sk-container-id-1 div.sk-parallel {display: flex;align-items: stretch;justify-content: center;background-color: white;position: relative;}#sk-container-id-1 div.sk-item::before, #sk-container-id-1 div.sk-parallel-item::before {content: \"\";position: absolute;border-left: 1px solid gray;box-sizing: border-box;top: 0;bottom: 0;left: 50%;z-index: -1;}#sk-container-id-1 div.sk-parallel-item {display: flex;flex-direction: column;z-index: 1;position: relative;background-color: white;}#sk-container-id-1 div.sk-parallel-item:first-child::after {align-self: flex-end;width: 50%;}#sk-container-id-1 div.sk-parallel-item:last-child::after {align-self: flex-start;width: 50%;}#sk-container-id-1 div.sk-parallel-item:only-child::after {width: 0;}#sk-container-id-1 div.sk-dashed-wrapped {border: 1px dashed gray;margin: 0 0.4em 0.5em 0.4em;box-sizing: border-box;padding-bottom: 0.4em;background-color: white;}#sk-container-id-1 div.sk-label label {font-family: monospace;font-weight: bold;display: inline-block;line-height: 1.2em;}#sk-container-id-1 div.sk-label-container {text-align: center;}#sk-container-id-1 div.sk-container {/* jupyter's `normalize.less` sets `[hidden] { display: none; }` but bootstrap.min.css set `[hidden] { display: none !important; }` so we also need the `!important` here to be able to override the default hidden behavior on the sphinx rendered scikit-learn.org. See: https://github.com/scikit-learn/scikit-learn/issues/21755 */display: inline-block !important;position: relative;}#sk-container-id-1 div.sk-text-repr-fallback {display: none;}</style><div id=\"sk-container-id-1\" class=\"sk-top-container\"><div class=\"sk-text-repr-fallback\"><pre>KNeighborsClassifier(n_neighbors=4)</pre><b>In a Jupyter environment, please rerun this cell to show the HTML representation or trust the notebook. <br />On GitHub, the HTML representation is unable to render, please try loading this page with nbviewer.org.</b></div><div class=\"sk-container\" hidden><div class=\"sk-item\"><div class=\"sk-estimator sk-toggleable\"><input class=\"sk-toggleable__control sk-hidden--visually\" id=\"sk-estimator-id-1\" type=\"checkbox\" checked><label for=\"sk-estimator-id-1\" class=\"sk-toggleable__label sk-toggleable__label-arrow\">KNeighborsClassifier</label><div class=\"sk-toggleable__content\"><pre>KNeighborsClassifier(n_neighbors=4)</pre></div></div></div></div></div>"
      ],
      "text/plain": [
       "KNeighborsClassifier(n_neighbors=4)"
      ]
     },
     "execution_count": 79,
     "metadata": {},
     "output_type": "execute_result"
    }
   ],
   "source": [
    "knn=KNeighborsClassifier(n_neighbors=4,weights='uniform')\n",
    "knn.fit(x_train_tf,y_train_tf)"
   ]
  },
  {
   "cell_type": "code",
   "execution_count": 80,
   "id": "8eff8591",
   "metadata": {},
   "outputs": [],
   "source": [
    "prediction=knn.predict(x_test_tf)"
   ]
  },
  {
   "cell_type": "code",
   "execution_count": 81,
   "id": "f8c05dc8",
   "metadata": {},
   "outputs": [
    {
     "data": {
      "text/plain": [
       "0.7229357798165138"
      ]
     },
     "execution_count": 81,
     "metadata": {},
     "output_type": "execute_result"
    }
   ],
   "source": [
    "knn.score(x_train_tf,y_train_tf)"
   ]
  },
  {
   "cell_type": "code",
   "execution_count": 82,
   "id": "f02fe9a5",
   "metadata": {},
   "outputs": [
    {
     "data": {
      "text/plain": [
       "0.5296296296296297"
      ]
     },
     "execution_count": 82,
     "metadata": {},
     "output_type": "execute_result"
    }
   ],
   "source": [
    "knn.score(x_test_tf,y_test_tf)"
   ]
  },
  {
   "cell_type": "code",
   "execution_count": 83,
   "id": "5d467469",
   "metadata": {},
   "outputs": [
    {
     "name": "stdout",
     "output_type": "stream",
     "text": [
      "              precision    recall  f1-score   support\n",
      "\n",
      "           0       0.48      0.92      0.63        12\n",
      "           1       0.25      0.33      0.29        12\n",
      "           2       0.62      0.73      0.67        11\n",
      "           3       0.40      0.40      0.40        10\n",
      "           4       0.14      0.20      0.17        10\n",
      "           5       0.61      1.00      0.76        11\n",
      "           6       0.55      0.50      0.52        12\n",
      "           7       0.43      0.27      0.33        11\n",
      "           8       0.67      0.73      0.70        11\n",
      "           9       0.23      0.58      0.33        12\n",
      "          10       0.86      0.50      0.63        12\n",
      "          11       1.00      0.73      0.84        11\n",
      "          12       0.67      0.18      0.29        11\n",
      "          13       0.71      0.45      0.56        11\n",
      "          14       0.75      0.30      0.43        10\n",
      "          15       0.64      0.75      0.69        12\n",
      "          16       0.60      0.25      0.35        12\n",
      "          17       0.89      0.67      0.76        12\n",
      "          18       0.33      0.27      0.30        11\n",
      "          19       0.75      0.82      0.78        11\n",
      "          20       0.69      0.75      0.72        12\n",
      "          21       0.50      0.55      0.52        11\n",
      "          22       0.67      0.17      0.27        12\n",
      "          23       0.67      0.60      0.63        10\n",
      "\n",
      "    accuracy                           0.53       270\n",
      "   macro avg       0.59      0.53      0.52       270\n",
      "weighted avg       0.59      0.53      0.52       270\n",
      "\n"
     ]
    }
   ],
   "source": [
    "print(classification_report(y_test_tf,prediction))"
   ]
  },
  {
   "cell_type": "code",
   "execution_count": 84,
   "id": "6215d450",
   "metadata": {},
   "outputs": [
    {
     "data": {
      "image/png": "[encoded data removed]",
      "text/plain": [
       "<Figure size 640x480 with 1 Axes>"
      ]
     },
     "metadata": {},
     "output_type": "display_data"
    }
   ],
   "source": [
    "knn_cm=confusion_matrix(y_test_tf,prediction)\n",
    "sns.heatmap(knn_cm,cbar=False,annot=True,cmap='rainbow',fmt='d')\n",
    "plt.show()"
   ]
  },
  {
   "cell_type": "code",
   "execution_count": 85,
   "id": "b481f766",
   "metadata": {},
   "outputs": [
    {
     "data": {
      "image/png": "[encoded data removed]",
      "text/plain": [
       "<Figure size 640x480 with 1 Axes>"
      ]
     },
     "metadata": {},
     "output_type": "display_data"
    }
   ],
   "source": [
    "score_list=[]\n",
    "for each in range(1,20):\n",
    "    knn=KNeighborsClassifier(n_neighbors=each,weights='uniform')\n",
    "    knn.fit(x_train_bow,y_train_bow)\n",
    "    score_list.append(knn.score(x_test_bow,y_test_bow))\n",
    "plt.plot(range(1,20),score_list)\n",
    "plt.grid()\n",
    "plt.xlabel('k values')\n",
    "plt.ylabel('accuracy')\n",
    "plt.show()"
   ]
  },
  {
   "cell_type": "markdown",
   "id": "d1c1f793",
   "metadata": {},
   "source": [
    "# 2)random forest"
   ]
  },
  {
   "cell_type": "code",
   "execution_count": 86,
   "id": "9e3b85d2",
   "metadata": {},
   "outputs": [
    {
     "name": "stderr",
     "output_type": "stream",
     "text": [
      "C:\\ProgramData\\anaconda3\\lib\\site-packages\\sklearn\\ensemble\\_forest.py:424: FutureWarning: `max_features='auto'` has been deprecated in 1.1 and will be removed in 1.3. To keep the past behaviour, explicitly set `max_features='sqrt'` or remove this parameter as it is also the default value for RandomForestClassifiers and ExtraTreesClassifiers.\n",
      "  warn(\n"
     ]
    },
    {
     "data": {
      "text/html": [
       "<style>#sk-container-id-2 {color: black;background-color: white;}#sk-container-id-2 pre{padding: 0;}#sk-container-id-2 div.sk-toggleable {background-color: white;}#sk-container-id-2 label.sk-toggleable__label {cursor: pointer;display: block;width: 100%;margin-bottom: 0;padding: 0.3em;box-sizing: border-box;text-align: center;}#sk-container-id-2 label.sk-toggleable__label-arrow:before {content: \"▸\";float: left;margin-right: 0.25em;color: #696969;}#sk-container-id-2 label.sk-toggleable__label-arrow:hover:before {color: black;}#sk-container-id-2 div.sk-estimator:hover label.sk-toggleable__label-arrow:before {color: black;}#sk-container-id-2 div.sk-toggleable__content {max-height: 0;max-width: 0;overflow: hidden;text-align: left;background-color: #f0f8ff;}#sk-container-id-2 div.sk-toggleable__content pre {margin: 0.2em;color: black;border-radius: 0.25em;background-color: #f0f8ff;}#sk-container-id-2 input.sk-toggleable__control:checked~div.sk-toggleable__content {max-height: 200px;max-width: 100%;overflow: auto;}#sk-container-id-2 input.sk-toggleable__control:checked~label.sk-toggleable__label-arrow:before {content: \"▾\";}#sk-container-id-2 div.sk-estimator input.sk-toggleable__control:checked~label.sk-toggleable__label {background-color: #d4ebff;}#sk-container-id-2 div.sk-label input.sk-toggleable__control:checked~label.sk-toggleable__label {background-color: #d4ebff;}#sk-container-id-2 input.sk-hidden--visually {border: 0;clip: rect(1px 1px 1px 1px);clip: rect(1px, 1px, 1px, 1px);height: 1px;margin: -1px;overflow: hidden;padding: 0;position: absolute;width: 1px;}#sk-container-id-2 div.sk-estimator {font-family: monospace;background-color: #f0f8ff;border: 1px dotted black;border-radius: 0.25em;box-sizing: border-box;margin-bottom: 0.5em;}#sk-container-id-2 div.sk-estimator:hover {background-color: #d4ebff;}#sk-container-id-2 div.sk-parallel-item::after {content: \"\";width: 100%;border-bottom: 1px solid gray;flex-grow: 1;}#sk-container-id-2 div.sk-label:hover label.sk-toggleable__label {background-color: #d4ebff;}#sk-container-id-2 div.sk-serial::before {content: \"\";position: absolute;border-left: 1px solid gray;box-sizing: border-box;top: 0;bottom: 0;left: 50%;z-index: 0;}#sk-container-id-2 div.sk-serial {display: flex;flex-direction: column;align-items: center;background-color: white;padding-right: 0.2em;padding-left: 0.2em;position: relative;}#sk-container-id-2 div.sk-item {position: relative;z-index: 1;}#sk-container-id-2 div.sk-parallel {display: flex;align-items: stretch;justify-content: center;background-color: white;position: relative;}#sk-container-id-2 div.sk-item::before, #sk-container-id-2 div.sk-parallel-item::before {content: \"\";position: absolute;border-left: 1px solid gray;box-sizing: border-box;top: 0;bottom: 0;left: 50%;z-index: -1;}#sk-container-id-2 div.sk-parallel-item {display: flex;flex-direction: column;z-index: 1;position: relative;background-color: white;}#sk-container-id-2 div.sk-parallel-item:first-child::after {align-self: flex-end;width: 50%;}#sk-container-id-2 div.sk-parallel-item:last-child::after {align-self: flex-start;width: 50%;}#sk-container-id-2 div.sk-parallel-item:only-child::after {width: 0;}#sk-container-id-2 div.sk-dashed-wrapped {border: 1px dashed gray;margin: 0 0.4em 0.5em 0.4em;box-sizing: border-box;padding-bottom: 0.4em;background-color: white;}#sk-container-id-2 div.sk-label label {font-family: monospace;font-weight: bold;display: inline-block;line-height: 1.2em;}#sk-container-id-2 div.sk-label-container {text-align: center;}#sk-container-id-2 div.sk-container {/* jupyter's `normalize.less` sets `[hidden] { display: none; }` but bootstrap.min.css set `[hidden] { display: none !important; }` so we also need the `!important` here to be able to override the default hidden behavior on the sphinx rendered scikit-learn.org. See: https://github.com/scikit-learn/scikit-learn/issues/21755 */display: inline-block !important;position: relative;}#sk-container-id-2 div.sk-text-repr-fallback {display: none;}</style><div id=\"sk-container-id-2\" class=\"sk-top-container\"><div class=\"sk-text-repr-fallback\"><pre>RandomForestClassifier(max_depth=8, max_features=&#x27;auto&#x27;, n_estimators=500,\n",
       "                       random_state=0)</pre><b>In a Jupyter environment, please rerun this cell to show the HTML representation or trust the notebook. <br />On GitHub, the HTML representation is unable to render, please try loading this page with nbviewer.org.</b></div><div class=\"sk-container\" hidden><div class=\"sk-item\"><div class=\"sk-estimator sk-toggleable\"><input class=\"sk-toggleable__control sk-hidden--visually\" id=\"sk-estimator-id-2\" type=\"checkbox\" checked><label for=\"sk-estimator-id-2\" class=\"sk-toggleable__label sk-toggleable__label-arrow\">RandomForestClassifier</label><div class=\"sk-toggleable__content\"><pre>RandomForestClassifier(max_depth=8, max_features=&#x27;auto&#x27;, n_estimators=500,\n",
       "                       random_state=0)</pre></div></div></div></div></div>"
      ],
      "text/plain": [
       "RandomForestClassifier(max_depth=8, max_features='auto', n_estimators=500,\n",
       "                       random_state=0)"
      ]
     },
     "execution_count": 86,
     "metadata": {},
     "output_type": "execute_result"
    }
   ],
   "source": [
    "from sklearn.ensemble import RandomForestClassifier\n",
    "\n",
    "rf=RandomForestClassifier(max_features='auto',n_estimators=500,max_depth=8,criterion='gini',random_state=0)\n",
    "rf.fit(x_train_tf,y_train_tf)"
   ]
  },
  {
   "cell_type": "code",
   "execution_count": 87,
   "id": "e54e24d9",
   "metadata": {},
   "outputs": [],
   "source": [
    "prediction_rf=rf.predict(x_test_tf)"
   ]
  },
  {
   "cell_type": "code",
   "execution_count": 88,
   "id": "d1e3be8c",
   "metadata": {},
   "outputs": [
    {
     "data": {
      "text/plain": [
       "0.9211009174311927"
      ]
     },
     "execution_count": 88,
     "metadata": {},
     "output_type": "execute_result"
    }
   ],
   "source": [
    "rf.score(x_train_tf,y_train_tf)"
   ]
  },
  {
   "cell_type": "code",
   "execution_count": 89,
   "id": "97eefe1f",
   "metadata": {},
   "outputs": [
    {
     "data": {
      "text/plain": [
       "0.7185185185185186"
      ]
     },
     "execution_count": 89,
     "metadata": {},
     "output_type": "execute_result"
    }
   ],
   "source": [
    "rf.score(x_test_tf,y_test_tf)"
   ]
  },
  {
   "cell_type": "code",
   "execution_count": 90,
   "id": "52a2d33f",
   "metadata": {},
   "outputs": [
    {
     "name": "stdout",
     "output_type": "stream",
     "text": [
      "              precision    recall  f1-score   support\n",
      "\n",
      "           0       0.57      1.00      0.73        12\n",
      "           1       0.89      0.67      0.76        12\n",
      "           2       1.00      0.82      0.90        11\n",
      "           3       0.80      0.40      0.53        10\n",
      "           4       0.00      0.00      0.00        10\n",
      "           5       1.00      0.82      0.90        11\n",
      "           6       0.85      0.92      0.88        12\n",
      "           7       0.62      0.73      0.67        11\n",
      "           8       1.00      1.00      1.00        11\n",
      "           9       0.54      0.58      0.56        12\n",
      "          10       0.73      0.67      0.70        12\n",
      "          11       1.00      0.91      0.95        11\n",
      "          12       0.80      0.36      0.50        11\n",
      "          13       0.77      0.91      0.83        11\n",
      "          14       0.62      0.50      0.56        10\n",
      "          15       0.83      0.83      0.83        12\n",
      "          16       0.88      0.58      0.70        12\n",
      "          17       0.92      1.00      0.96        12\n",
      "          18       0.67      0.73      0.70        11\n",
      "          19       0.67      0.91      0.77        11\n",
      "          20       0.60      0.75      0.67        12\n",
      "          21       0.44      0.73      0.55        11\n",
      "          22       0.57      0.33      0.42        12\n",
      "          23       0.50      1.00      0.67        10\n",
      "\n",
      "    accuracy                           0.72       270\n",
      "   macro avg       0.72      0.71      0.70       270\n",
      "weighted avg       0.72      0.72      0.70       270\n",
      "\n"
     ]
    },
    {
     "name": "stderr",
     "output_type": "stream",
     "text": [
      "C:\\ProgramData\\anaconda3\\lib\\site-packages\\sklearn\\metrics\\_classification.py:1344: UndefinedMetricWarning: Precision and F-score are ill-defined and being set to 0.0 in labels with no predicted samples. Use `zero_division` parameter to control this behavior.\n",
      "  _warn_prf(average, modifier, msg_start, len(result))\n",
      "C:\\ProgramData\\anaconda3\\lib\\site-packages\\sklearn\\metrics\\_classification.py:1344: UndefinedMetricWarning: Precision and F-score are ill-defined and being set to 0.0 in labels with no predicted samples. Use `zero_division` parameter to control this behavior.\n",
      "  _warn_prf(average, modifier, msg_start, len(result))\n",
      "C:\\ProgramData\\anaconda3\\lib\\site-packages\\sklearn\\metrics\\_classification.py:1344: UndefinedMetricWarning: Precision and F-score are ill-defined and being set to 0.0 in labels with no predicted samples. Use `zero_division` parameter to control this behavior.\n",
      "  _warn_prf(average, modifier, msg_start, len(result))\n"
     ]
    }
   ],
   "source": [
    "print(classification_report(y_test_tf,prediction_rf))"
   ]
  },
  {
   "cell_type": "code",
   "execution_count": 91,
   "id": "a3f45000",
   "metadata": {},
   "outputs": [
    {
     "data": {
      "image/png": "[encoded data removed]",
      "text/plain": [
       "<Figure size 640x480 with 1 Axes>"
      ]
     },
     "metadata": {},
     "output_type": "display_data"
    }
   ],
   "source": [
    "rf_cm=confusion_matrix(y_test_tf,prediction_rf)\n",
    "sns.heatmap(rf_cm,cbar=False,annot=True,cmap='rainbow',fmt='d')\n",
    "plt.show()"
   ]
  },
  {
   "cell_type": "markdown",
   "id": "c8537bf5",
   "metadata": {},
   "source": [
    "#hyper parameter tunning gridsearchcv"
   ]
  },
  {
   "cell_type": "code",
   "execution_count": null,
   "id": "dcf14c2f",
   "metadata": {},
   "outputs": [],
   "source": []
  },
  {
   "cell_type": "markdown",
   "id": "2c46e010",
   "metadata": {},
   "source": [
    "# 3)MultinomialNB"
   ]
  },
  {
   "cell_type": "code",
   "execution_count": 92,
   "id": "e32af8e9",
   "metadata": {},
   "outputs": [],
   "source": [
    "from sklearn.naive_bayes import MultinomialNB"
   ]
  },
  {
   "cell_type": "code",
   "execution_count": 93,
   "id": "06234750",
   "metadata": {},
   "outputs": [
    {
     "data": {
      "text/html": [
       "<style>#sk-container-id-3 {color: black;background-color: white;}#sk-container-id-3 pre{padding: 0;}#sk-container-id-3 div.sk-toggleable {background-color: white;}#sk-container-id-3 label.sk-toggleable__label {cursor: pointer;display: block;width: 100%;margin-bottom: 0;padding: 0.3em;box-sizing: border-box;text-align: center;}#sk-container-id-3 label.sk-toggleable__label-arrow:before {content: \"▸\";float: left;margin-right: 0.25em;color: #696969;}#sk-container-id-3 label.sk-toggleable__label-arrow:hover:before {color: black;}#sk-container-id-3 div.sk-estimator:hover label.sk-toggleable__label-arrow:before {color: black;}#sk-container-id-3 div.sk-toggleable__content {max-height: 0;max-width: 0;overflow: hidden;text-align: left;background-color: #f0f8ff;}#sk-container-id-3 div.sk-toggleable__content pre {margin: 0.2em;color: black;border-radius: 0.25em;background-color: #f0f8ff;}#sk-container-id-3 input.sk-toggleable__control:checked~div.sk-toggleable__content {max-height: 200px;max-width: 100%;overflow: auto;}#sk-container-id-3 input.sk-toggleable__control:checked~label.sk-toggleable__label-arrow:before {content: \"▾\";}#sk-container-id-3 div.sk-estimator input.sk-toggleable__control:checked~label.sk-toggleable__label {background-color: #d4ebff;}#sk-container-id-3 div.sk-label input.sk-toggleable__control:checked~label.sk-toggleable__label {background-color: #d4ebff;}#sk-container-id-3 input.sk-hidden--visually {border: 0;clip: rect(1px 1px 1px 1px);clip: rect(1px, 1px, 1px, 1px);height: 1px;margin: -1px;overflow: hidden;padding: 0;position: absolute;width: 1px;}#sk-container-id-3 div.sk-estimator {font-family: monospace;background-color: #f0f8ff;border: 1px dotted black;border-radius: 0.25em;box-sizing: border-box;margin-bottom: 0.5em;}#sk-container-id-3 div.sk-estimator:hover {background-color: #d4ebff;}#sk-container-id-3 div.sk-parallel-item::after {content: \"\";width: 100%;border-bottom: 1px solid gray;flex-grow: 1;}#sk-container-id-3 div.sk-label:hover label.sk-toggleable__label {background-color: #d4ebff;}#sk-container-id-3 div.sk-serial::before {content: \"\";position: absolute;border-left: 1px solid gray;box-sizing: border-box;top: 0;bottom: 0;left: 50%;z-index: 0;}#sk-container-id-3 div.sk-serial {display: flex;flex-direction: column;align-items: center;background-color: white;padding-right: 0.2em;padding-left: 0.2em;position: relative;}#sk-container-id-3 div.sk-item {position: relative;z-index: 1;}#sk-container-id-3 div.sk-parallel {display: flex;align-items: stretch;justify-content: center;background-color: white;position: relative;}#sk-container-id-3 div.sk-item::before, #sk-container-id-3 div.sk-parallel-item::before {content: \"\";position: absolute;border-left: 1px solid gray;box-sizing: border-box;top: 0;bottom: 0;left: 50%;z-index: -1;}#sk-container-id-3 div.sk-parallel-item {display: flex;flex-direction: column;z-index: 1;position: relative;background-color: white;}#sk-container-id-3 div.sk-parallel-item:first-child::after {align-self: flex-end;width: 50%;}#sk-container-id-3 div.sk-parallel-item:last-child::after {align-self: flex-start;width: 50%;}#sk-container-id-3 div.sk-parallel-item:only-child::after {width: 0;}#sk-container-id-3 div.sk-dashed-wrapped {border: 1px dashed gray;margin: 0 0.4em 0.5em 0.4em;box-sizing: border-box;padding-bottom: 0.4em;background-color: white;}#sk-container-id-3 div.sk-label label {font-family: monospace;font-weight: bold;display: inline-block;line-height: 1.2em;}#sk-container-id-3 div.sk-label-container {text-align: center;}#sk-container-id-3 div.sk-container {/* jupyter's `normalize.less` sets `[hidden] { display: none; }` but bootstrap.min.css set `[hidden] { display: none !important; }` so we also need the `!important` here to be able to override the default hidden behavior on the sphinx rendered scikit-learn.org. See: https://github.com/scikit-learn/scikit-learn/issues/21755 */display: inline-block !important;position: relative;}#sk-container-id-3 div.sk-text-repr-fallback {display: none;}</style><div id=\"sk-container-id-3\" class=\"sk-top-container\"><div class=\"sk-text-repr-fallback\"><pre>MultinomialNB()</pre><b>In a Jupyter environment, please rerun this cell to show the HTML representation or trust the notebook. <br />On GitHub, the HTML representation is unable to render, please try loading this page with nbviewer.org.</b></div><div class=\"sk-container\" hidden><div class=\"sk-item\"><div class=\"sk-estimator sk-toggleable\"><input class=\"sk-toggleable__control sk-hidden--visually\" id=\"sk-estimator-id-3\" type=\"checkbox\" checked><label for=\"sk-estimator-id-3\" class=\"sk-toggleable__label sk-toggleable__label-arrow\">MultinomialNB</label><div class=\"sk-toggleable__content\"><pre>MultinomialNB()</pre></div></div></div></div></div>"
      ],
      "text/plain": [
       "MultinomialNB()"
      ]
     },
     "execution_count": 93,
     "metadata": {},
     "output_type": "execute_result"
    }
   ],
   "source": [
    "multi_nb=MultinomialNB()\n",
    "multi_nb.fit(x_train_bow,y_train_bow)"
   ]
  },
  {
   "cell_type": "code",
   "execution_count": 94,
   "id": "e587a498",
   "metadata": {},
   "outputs": [],
   "source": [
    "prediction_multinb=multi_nb.predict(x_test_bow)"
   ]
  },
  {
   "cell_type": "code",
   "execution_count": 95,
   "id": "88f316b2",
   "metadata": {},
   "outputs": [
    {
     "data": {
      "text/plain": [
       "0.8027522935779816"
      ]
     },
     "execution_count": 95,
     "metadata": {},
     "output_type": "execute_result"
    }
   ],
   "source": [
    "multi_nb.score(x_train_bow,y_train_bow)"
   ]
  },
  {
   "cell_type": "code",
   "execution_count": 96,
   "id": "b54d16d2",
   "metadata": {},
   "outputs": [
    {
     "data": {
      "text/plain": [
       "0.5777777777777777"
      ]
     },
     "execution_count": 96,
     "metadata": {},
     "output_type": "execute_result"
    }
   ],
   "source": [
    "multi_nb.score(x_test_bow,y_test_bow)"
   ]
  },
  {
   "cell_type": "code",
   "execution_count": 97,
   "id": "f6cdaae2",
   "metadata": {},
   "outputs": [
    {
     "name": "stdout",
     "output_type": "stream",
     "text": [
      "              precision    recall  f1-score   support\n",
      "\n",
      "           0       0.46      0.92      0.61        12\n",
      "           1       0.17      0.25      0.20        12\n",
      "           2       0.90      0.82      0.86        11\n",
      "           3       1.00      0.10      0.18        10\n",
      "           4       0.33      0.30      0.32        10\n",
      "           5       1.00      0.45      0.62        11\n",
      "           6       0.73      0.67      0.70        12\n",
      "           7       0.56      0.45      0.50        11\n",
      "           8       1.00      0.91      0.95        11\n",
      "           9       0.39      0.75      0.51        12\n",
      "          10       1.00      0.50      0.67        12\n",
      "          11       1.00      0.73      0.84        11\n",
      "          12       0.33      0.09      0.14        11\n",
      "          13       0.62      0.45      0.53        11\n",
      "          14       0.67      0.40      0.50        10\n",
      "          15       0.67      0.83      0.74        12\n",
      "          16       0.60      0.25      0.35        12\n",
      "          17       1.00      0.67      0.80        12\n",
      "          18       0.28      0.45      0.34        11\n",
      "          19       0.67      0.91      0.77        11\n",
      "          20       0.62      0.83      0.71        12\n",
      "          21       0.44      0.64      0.52        11\n",
      "          22       0.50      0.75      0.60        12\n",
      "          23       0.75      0.60      0.67        10\n",
      "\n",
      "    accuracy                           0.58       270\n",
      "   macro avg       0.65      0.57      0.57       270\n",
      "weighted avg       0.65      0.58      0.57       270\n",
      "\n"
     ]
    }
   ],
   "source": [
    "print(classification_report(y_test_bow,prediction_multinb))"
   ]
  },
  {
   "cell_type": "code",
   "execution_count": 98,
   "id": "404b6b8a",
   "metadata": {},
   "outputs": [
    {
     "data": {
      "image/png": "[encoded data removed]",
      "text/plain": [
       "<Figure size 640x480 with 1 Axes>"
      ]
     },
     "metadata": {},
     "output_type": "display_data"
    }
   ],
   "source": [
    "knn_cm=confusion_matrix(y_test_bow,prediction_multinb)\n",
    "sns.heatmap(knn_cm,cbar=False,annot=True,cmap='rainbow',fmt='d')\n",
    "plt.show()"
   ]
  },
  {
   "cell_type": "markdown",
   "id": "d00020bf",
   "metadata": {},
   "source": [
    "# 4)SVM"
   ]
  },
  {
   "cell_type": "code",
   "execution_count": 99,
   "id": "29f8a108",
   "metadata": {},
   "outputs": [],
   "source": [
    "from sklearn.multiclass import OneVsRestClassifier\n",
    "from sklearn.svm import SVC"
   ]
  },
  {
   "cell_type": "code",
   "execution_count": 100,
   "id": "c7c6d16c",
   "metadata": {},
   "outputs": [
    {
     "data": {
      "text/html": [
       "<style>#sk-container-id-4 {color: black;background-color: white;}#sk-container-id-4 pre{padding: 0;}#sk-container-id-4 div.sk-toggleable {background-color: white;}#sk-container-id-4 label.sk-toggleable__label {cursor: pointer;display: block;width: 100%;margin-bottom: 0;padding: 0.3em;box-sizing: border-box;text-align: center;}#sk-container-id-4 label.sk-toggleable__label-arrow:before {content: \"▸\";float: left;margin-right: 0.25em;color: #696969;}#sk-container-id-4 label.sk-toggleable__label-arrow:hover:before {color: black;}#sk-container-id-4 div.sk-estimator:hover label.sk-toggleable__label-arrow:before {color: black;}#sk-container-id-4 div.sk-toggleable__content {max-height: 0;max-width: 0;overflow: hidden;text-align: left;background-color: #f0f8ff;}#sk-container-id-4 div.sk-toggleable__content pre {margin: 0.2em;color: black;border-radius: 0.25em;background-color: #f0f8ff;}#sk-container-id-4 input.sk-toggleable__control:checked~div.sk-toggleable__content {max-height: 200px;max-width: 100%;overflow: auto;}#sk-container-id-4 input.sk-toggleable__control:checked~label.sk-toggleable__label-arrow:before {content: \"▾\";}#sk-container-id-4 div.sk-estimator input.sk-toggleable__control:checked~label.sk-toggleable__label {background-color: #d4ebff;}#sk-container-id-4 div.sk-label input.sk-toggleable__control:checked~label.sk-toggleable__label {background-color: #d4ebff;}#sk-container-id-4 input.sk-hidden--visually {border: 0;clip: rect(1px 1px 1px 1px);clip: rect(1px, 1px, 1px, 1px);height: 1px;margin: -1px;overflow: hidden;padding: 0;position: absolute;width: 1px;}#sk-container-id-4 div.sk-estimator {font-family: monospace;background-color: #f0f8ff;border: 1px dotted black;border-radius: 0.25em;box-sizing: border-box;margin-bottom: 0.5em;}#sk-container-id-4 div.sk-estimator:hover {background-color: #d4ebff;}#sk-container-id-4 div.sk-parallel-item::after {content: \"\";width: 100%;border-bottom: 1px solid gray;flex-grow: 1;}#sk-container-id-4 div.sk-label:hover label.sk-toggleable__label {background-color: #d4ebff;}#sk-container-id-4 div.sk-serial::before {content: \"\";position: absolute;border-left: 1px solid gray;box-sizing: border-box;top: 0;bottom: 0;left: 50%;z-index: 0;}#sk-container-id-4 div.sk-serial {display: flex;flex-direction: column;align-items: center;background-color: white;padding-right: 0.2em;padding-left: 0.2em;position: relative;}#sk-container-id-4 div.sk-item {position: relative;z-index: 1;}#sk-container-id-4 div.sk-parallel {display: flex;align-items: stretch;justify-content: center;background-color: white;position: relative;}#sk-container-id-4 div.sk-item::before, #sk-container-id-4 div.sk-parallel-item::before {content: \"\";position: absolute;border-left: 1px solid gray;box-sizing: border-box;top: 0;bottom: 0;left: 50%;z-index: -1;}#sk-container-id-4 div.sk-parallel-item {display: flex;flex-direction: column;z-index: 1;position: relative;background-color: white;}#sk-container-id-4 div.sk-parallel-item:first-child::after {align-self: flex-end;width: 50%;}#sk-container-id-4 div.sk-parallel-item:last-child::after {align-self: flex-start;width: 50%;}#sk-container-id-4 div.sk-parallel-item:only-child::after {width: 0;}#sk-container-id-4 div.sk-dashed-wrapped {border: 1px dashed gray;margin: 0 0.4em 0.5em 0.4em;box-sizing: border-box;padding-bottom: 0.4em;background-color: white;}#sk-container-id-4 div.sk-label label {font-family: monospace;font-weight: bold;display: inline-block;line-height: 1.2em;}#sk-container-id-4 div.sk-label-container {text-align: center;}#sk-container-id-4 div.sk-container {/* jupyter's `normalize.less` sets `[hidden] { display: none; }` but bootstrap.min.css set `[hidden] { display: none !important; }` so we also need the `!important` here to be able to override the default hidden behavior on the sphinx rendered scikit-learn.org. See: https://github.com/scikit-learn/scikit-learn/issues/21755 */display: inline-block !important;position: relative;}#sk-container-id-4 div.sk-text-repr-fallback {display: none;}</style><div id=\"sk-container-id-4\" class=\"sk-top-container\"><div class=\"sk-text-repr-fallback\"><pre>OneVsRestClassifier(estimator=SVC(class_weight=&#x27;balanced&#x27;, kernel=&#x27;linear&#x27;))</pre><b>In a Jupyter environment, please rerun this cell to show the HTML representation or trust the notebook. <br />On GitHub, the HTML representation is unable to render, please try loading this page with nbviewer.org.</b></div><div class=\"sk-container\" hidden><div class=\"sk-item sk-dashed-wrapped\"><div class=\"sk-label-container\"><div class=\"sk-label sk-toggleable\"><input class=\"sk-toggleable__control sk-hidden--visually\" id=\"sk-estimator-id-4\" type=\"checkbox\" ><label for=\"sk-estimator-id-4\" class=\"sk-toggleable__label sk-toggleable__label-arrow\">OneVsRestClassifier</label><div class=\"sk-toggleable__content\"><pre>OneVsRestClassifier(estimator=SVC(class_weight=&#x27;balanced&#x27;, kernel=&#x27;linear&#x27;))</pre></div></div></div><div class=\"sk-parallel\"><div class=\"sk-parallel-item\"><div class=\"sk-item\"><div class=\"sk-label-container\"><div class=\"sk-label sk-toggleable\"><input class=\"sk-toggleable__control sk-hidden--visually\" id=\"sk-estimator-id-5\" type=\"checkbox\" ><label for=\"sk-estimator-id-5\" class=\"sk-toggleable__label sk-toggleable__label-arrow\">estimator: SVC</label><div class=\"sk-toggleable__content\"><pre>SVC(class_weight=&#x27;balanced&#x27;, kernel=&#x27;linear&#x27;)</pre></div></div></div><div class=\"sk-serial\"><div class=\"sk-item\"><div class=\"sk-estimator sk-toggleable\"><input class=\"sk-toggleable__control sk-hidden--visually\" id=\"sk-estimator-id-6\" type=\"checkbox\" ><label for=\"sk-estimator-id-6\" class=\"sk-toggleable__label sk-toggleable__label-arrow\">SVC</label><div class=\"sk-toggleable__content\"><pre>SVC(class_weight=&#x27;balanced&#x27;, kernel=&#x27;linear&#x27;)</pre></div></div></div></div></div></div></div></div></div></div>"
      ],
      "text/plain": [
       "OneVsRestClassifier(estimator=SVC(class_weight='balanced', kernel='linear'))"
      ]
     },
     "execution_count": 100,
     "metadata": {},
     "output_type": "execute_result"
    }
   ],
   "source": [
    "svm=OneVsRestClassifier(SVC(C=1.0,kernel='linear',degree=3,gamma='scale',class_weight ='balanced'))\n",
    "svm.fit(x_train_tf,y_train_tf)"
   ]
  },
  {
   "cell_type": "code",
   "execution_count": 101,
   "id": "630b4e69",
   "metadata": {},
   "outputs": [],
   "source": [
    "prediction_svm=svm.predict(x_test_tf)"
   ]
  },
  {
   "cell_type": "code",
   "execution_count": 102,
   "id": "f383c234",
   "metadata": {},
   "outputs": [
    {
     "data": {
      "text/plain": [
       "array([10,  1, 19,  9, 16,  7,  9, 21,  9, 16,  9,  4,  4, 13, 21, 19, 15,\n",
       "        9, 21, 21, 15, 17, 11,  3, 11, 15, 22,  4,  8,  9,  1,  7, 16,  7,\n",
       "       15,  8,  3,  6, 20, 15,  7,  6, 20,  0, 22,  8,  0, 19, 16, 17, 19,\n",
       "       22,  0, 22, 15,  4, 18, 10, 23, 14,  9,  6, 17,  2, 21, 19, 19,  5,\n",
       "       15,  2, 10, 23,  7,  9, 13, 18,  6, 22, 13,  2,  5,  9, 16,  8, 15,\n",
       "       19, 18, 13,  6, 17,  1,  9, 20, 17, 20, 11,  8, 19, 21,  6, 20, 15,\n",
       "       13, 22, 23, 22,  7,  1,  4, 18, 17,  8, 20,  2,  3,  6,  2, 14,  3,\n",
       "       19, 23, 21, 16, 14,  4,  6,  1,  4,  0,  9,  7,  5, 20, 17, 20, 22,\n",
       "        8, 23,  9, 19,  4,  6,  8, 19, 22, 11,  5, 21, 21, 20,  4,  5, 11,\n",
       "       21, 13, 21, 12, 13, 18,  5, 15,  5,  7,  1, 23,  7, 15, 21, 15, 10,\n",
       "       22, 19, 19, 22,  2, 17,  9,  6,  0,  5, 22, 20,  5, 18, 22, 14, 10,\n",
       "        0, 13,  1, 20, 21, 13,  9,  1,  5,  4, 13, 17, 22, 10,  8,  0,  1,\n",
       "        7, 20,  5, 10,  0,  4,  7,  1, 14,  7, 17,  5, 11,  0,  5, 11,  8,\n",
       "       20,  0, 14,  9,  3,  1,  0, 16,  7,  6,  4, 10, 23, 18, 17, 15,  0,\n",
       "       23, 22,  1,  5, 21,  7, 15, 20, 13,  5, 11,  2,  2, 12,  0,  1,  0,\n",
       "        7,  8,  6, 19, 17, 11, 17, 19, 17,  0, 16, 22, 21, 11,  2])"
      ]
     },
     "execution_count": 102,
     "metadata": {},
     "output_type": "execute_result"
    }
   ],
   "source": [
    "prediction_svm"
   ]
  },
  {
   "cell_type": "code",
   "execution_count": 103,
   "id": "05250e94",
   "metadata": {},
   "outputs": [
    {
     "data": {
      "text/plain": [
       "0.9931192660550459"
      ]
     },
     "execution_count": 103,
     "metadata": {},
     "output_type": "execute_result"
    }
   ],
   "source": [
    "svm.score(x_train_tf,y_train_tf)"
   ]
  },
  {
   "cell_type": "code",
   "execution_count": 104,
   "id": "26713e98",
   "metadata": {},
   "outputs": [
    {
     "data": {
      "text/plain": [
       "0.7296296296296296"
      ]
     },
     "execution_count": 104,
     "metadata": {},
     "output_type": "execute_result"
    }
   ],
   "source": [
    "svm.score(x_test_tf,y_test_tf)"
   ]
  },
  {
   "cell_type": "code",
   "execution_count": 105,
   "id": "d478edd8",
   "metadata": {},
   "outputs": [
    {
     "name": "stdout",
     "output_type": "stream",
     "text": [
      "              precision    recall  f1-score   support\n",
      "\n",
      "           0       0.73      0.92      0.81        12\n",
      "           1       0.77      0.83      0.80        12\n",
      "           2       1.00      0.82      0.90        11\n",
      "           3       0.80      0.40      0.53        10\n",
      "           4       0.42      0.50      0.45        10\n",
      "           5       0.67      0.91      0.77        11\n",
      "           6       0.83      0.83      0.83        12\n",
      "           7       0.60      0.82      0.69        11\n",
      "           8       1.00      1.00      1.00        11\n",
      "           9       0.53      0.67      0.59        12\n",
      "          10       0.75      0.50      0.60        12\n",
      "          11       1.00      0.91      0.95        11\n",
      "          12       1.00      0.18      0.31        11\n",
      "          13       0.82      0.82      0.82        11\n",
      "          14       0.83      0.50      0.62        10\n",
      "          15       0.71      0.83      0.77        12\n",
      "          16       0.88      0.58      0.70        12\n",
      "          17       0.86      1.00      0.92        12\n",
      "          18       0.71      0.45      0.56        11\n",
      "          19       0.73      1.00      0.85        11\n",
      "          20       0.71      0.83      0.77        12\n",
      "          21       0.47      0.64      0.54        11\n",
      "          22       0.56      0.75      0.64        12\n",
      "          23       0.88      0.70      0.78        10\n",
      "\n",
      "    accuracy                           0.73       270\n",
      "   macro avg       0.76      0.72      0.72       270\n",
      "weighted avg       0.76      0.73      0.72       270\n",
      "\n"
     ]
    }
   ],
   "source": [
    "print(classification_report(y_test_tf,prediction_svm))"
   ]
  },
  {
   "cell_type": "code",
   "execution_count": 106,
   "id": "1a417a36",
   "metadata": {},
   "outputs": [
    {
     "data": {
      "image/png": "[encoded data removed]",
      "text/plain": [
       "<Figure size 640x480 with 1 Axes>"
      ]
     },
     "metadata": {},
     "output_type": "display_data"
    }
   ],
   "source": [
    "svm_cm=confusion_matrix(y_test_tf,prediction_svm)\n",
    "sns.heatmap(svm_cm,cbar=False,annot=True,cmap='rainbow',fmt='d')\n",
    "plt.show()"
   ]
  },
  {
   "cell_type": "markdown",
   "id": "cbc22a56",
   "metadata": {},
   "source": [
    "# LSTM"
   ]
  },
  {
   "cell_type": "code",
   "execution_count": 107,
   "id": "2c919fae",
   "metadata": {},
   "outputs": [
    {
     "data": {
      "text/html": [
       "<div>\n",
       "<style scoped>\n",
       "    .dataframe tbody tr th:only-of-type {\n",
       "        vertical-align: middle;\n",
       "    }\n",
       "\n",
       "    .dataframe tbody tr th {\n",
       "        vertical-align: top;\n",
       "    }\n",
       "\n",
       "    .dataframe thead th {\n",
       "        text-align: right;\n",
       "    }\n",
       "</style>\n",
       "<table border=\"1\" class=\"dataframe\">\n",
       "  <thead>\n",
       "    <tr style=\"text-align: right;\">\n",
       "      <th></th>\n",
       "      <th>ID</th>\n",
       "      <th>Resume_str</th>\n",
       "      <th>Category</th>\n",
       "      <th>cleaned_Resume</th>\n",
       "      <th>encoded_Skills</th>\n",
       "    </tr>\n",
       "  </thead>\n",
       "  <tbody>\n",
       "    <tr>\n",
       "      <th>0</th>\n",
       "      <td>16852973</td>\n",
       "      <td>HR ADMINISTRATOR/MARKETING ASSOCIATE\\...</td>\n",
       "      <td>HR</td>\n",
       "      <td>hr administrator kete associate hr administrat...</td>\n",
       "      <td>19</td>\n",
       "    </tr>\n",
       "    <tr>\n",
       "      <th>1</th>\n",
       "      <td>22323967</td>\n",
       "      <td>HR SPECIALIST, US HR OPERATIONS      ...</td>\n",
       "      <td>HR</td>\n",
       "      <td>hr specialist hr operation sum y versatile med...</td>\n",
       "      <td>19</td>\n",
       "    </tr>\n",
       "    <tr>\n",
       "      <th>2</th>\n",
       "      <td>33176873</td>\n",
       "      <td>HR DIRECTOR       Summary      Over 2...</td>\n",
       "      <td>HR</td>\n",
       "      <td>hr director sum y year experience recruiting p...</td>\n",
       "      <td>19</td>\n",
       "    </tr>\n",
       "    <tr>\n",
       "      <th>3</th>\n",
       "      <td>27018550</td>\n",
       "      <td>HR SPECIALIST       Summary    Dedica...</td>\n",
       "      <td>HR</td>\n",
       "      <td>hr specialist sum y dedicate driven dynamic ye...</td>\n",
       "      <td>19</td>\n",
       "    </tr>\n",
       "    <tr>\n",
       "      <th>4</th>\n",
       "      <td>17812897</td>\n",
       "      <td>HR MANAGER         Skill Highlights  ...</td>\n",
       "      <td>HR</td>\n",
       "      <td>hr manager skill highlight hr skill hr departm...</td>\n",
       "      <td>19</td>\n",
       "    </tr>\n",
       "    <tr>\n",
       "      <th>...</th>\n",
       "      <td>...</td>\n",
       "      <td>...</td>\n",
       "      <td>...</td>\n",
       "      <td>...</td>\n",
       "      <td>...</td>\n",
       "    </tr>\n",
       "    <tr>\n",
       "      <th>951</th>\n",
       "      <td>28733974</td>\n",
       "      <td>EXECUTIVE DIRECTOR         Professi...</td>\n",
       "      <td>AGRICULTURE</td>\n",
       "      <td>executive director professional sum y accompli...</td>\n",
       "      <td>2</td>\n",
       "    </tr>\n",
       "    <tr>\n",
       "      <th>962</th>\n",
       "      <td>11676151</td>\n",
       "      <td>PATIENT ACCESS REP       Summary     ...</td>\n",
       "      <td>AGRICULTURE</td>\n",
       "      <td>patient access rep sum y dependable computer a...</td>\n",
       "      <td>2</td>\n",
       "    </tr>\n",
       "    <tr>\n",
       "      <th>969</th>\n",
       "      <td>28247753</td>\n",
       "      <td>COMMITTEE MEMBER         Executive Pr...</td>\n",
       "      <td>AGRICULTURE</td>\n",
       "      <td>committee member executive profile result driv...</td>\n",
       "      <td>2</td>\n",
       "    </tr>\n",
       "    <tr>\n",
       "      <th>922</th>\n",
       "      <td>30437583</td>\n",
       "      <td>PROGRAM ANALYST       Professional Su...</td>\n",
       "      <td>AGRICULTURE</td>\n",
       "      <td>program analyst professional sum y key member ...</td>\n",
       "      <td>2</td>\n",
       "    </tr>\n",
       "    <tr>\n",
       "      <th>966</th>\n",
       "      <td>16661264</td>\n",
       "      <td>NATURAL RESOURCE SPECIALIST GS-12/5  ...</td>\n",
       "      <td>AGRICULTURE</td>\n",
       "      <td>natural resource specialist gs position apply ...</td>\n",
       "      <td>2</td>\n",
       "    </tr>\n",
       "  </tbody>\n",
       "</table>\n",
       "<p>2693 rows × 5 columns</p>\n",
       "</div>"
      ],
      "text/plain": [
       "           ID                                         Resume_str     Category  \\\n",
       "0    16852973           HR ADMINISTRATOR/MARKETING ASSOCIATE\\...           HR   \n",
       "1    22323967           HR SPECIALIST, US HR OPERATIONS      ...           HR   \n",
       "2    33176873           HR DIRECTOR       Summary      Over 2...           HR   \n",
       "3    27018550           HR SPECIALIST       Summary    Dedica...           HR   \n",
       "4    17812897           HR MANAGER         Skill Highlights  ...           HR   \n",
       "..        ...                                                ...          ...   \n",
       "951  28733974             EXECUTIVE DIRECTOR         Professi...  AGRICULTURE   \n",
       "962  11676151           PATIENT ACCESS REP       Summary     ...  AGRICULTURE   \n",
       "969  28247753           COMMITTEE MEMBER         Executive Pr...  AGRICULTURE   \n",
       "922  30437583           PROGRAM ANALYST       Professional Su...  AGRICULTURE   \n",
       "966  16661264           NATURAL RESOURCE SPECIALIST GS-12/5  ...  AGRICULTURE   \n",
       "\n",
       "                                        cleaned_Resume  encoded_Skills  \n",
       "0    hr administrator kete associate hr administrat...              19  \n",
       "1    hr specialist hr operation sum y versatile med...              19  \n",
       "2    hr director sum y year experience recruiting p...              19  \n",
       "3    hr specialist sum y dedicate driven dynamic ye...              19  \n",
       "4    hr manager skill highlight hr skill hr departm...              19  \n",
       "..                                                 ...             ...  \n",
       "951  executive director professional sum y accompli...               2  \n",
       "962  patient access rep sum y dependable computer a...               2  \n",
       "969  committee member executive profile result driv...               2  \n",
       "922  program analyst professional sum y key member ...               2  \n",
       "966  natural resource specialist gs position apply ...               2  \n",
       "\n",
       "[2693 rows x 5 columns]"
      ]
     },
     "execution_count": 107,
     "metadata": {},
     "output_type": "execute_result"
    }
   ],
   "source": [
    "resumedata"
   ]
  },
  {
   "cell_type": "code",
   "execution_count": 108,
   "id": "6a4a566b",
   "metadata": {},
   "outputs": [
    {
     "data": {
      "text/plain": [
       "INFORMATION-TECHNOLOGY    120\n",
       "BUSINESS-DEVELOPMENT      120\n",
       "FINANCE                   118\n",
       "CHEF                      118\n",
       "ACCOUNTANT                118\n",
       "ADVOCATE                  118\n",
       "ENGINEERING               118\n",
       "FITNESS                   117\n",
       "AVIATION                  117\n",
       "SALES                     116\n",
       "CONSULTANT                115\n",
       "BANKING                   115\n",
       "HEALTHCARE                115\n",
       "CONSTRUCTION              112\n",
       "PUBLIC-RELATIONS          111\n",
       "BPO                       110\n",
       "AUTOMOBILE                110\n",
       "HR                        110\n",
       "AGRICULTURE               110\n",
       "DESIGNER                  107\n",
       "ARTS                      103\n",
       "TEACHER                   102\n",
       "APPAREL                    97\n",
       "DIGITAL-MEDIA              96\n",
       "Name: Category, dtype: int64"
      ]
     },
     "execution_count": 108,
     "metadata": {},
     "output_type": "execute_result"
    }
   ],
   "source": [
    "resumedata['Category'].value_counts()"
   ]
  },
  {
   "cell_type": "code",
   "execution_count": 109,
   "id": "7fb6a503",
   "metadata": {},
   "outputs": [
    {
     "data": {
      "text/plain": [
       "str"
      ]
     },
     "execution_count": 109,
     "metadata": {},
     "output_type": "execute_result"
    }
   ],
   "source": [
    "type(resumedata['cleaned_Resume'][0])"
   ]
  },
  {
   "cell_type": "code",
   "execution_count": 110,
   "id": "a24c8d9a",
   "metadata": {},
   "outputs": [
    {
     "data": {
      "text/plain": [
       "0"
      ]
     },
     "execution_count": 110,
     "metadata": {},
     "output_type": "execute_result"
    }
   ],
   "source": [
    "resumedata['cleaned_Resume'].isnull().sum()"
   ]
  },
  {
   "cell_type": "code",
   "execution_count": 111,
   "id": "04d079a1",
   "metadata": {},
   "outputs": [
    {
     "name": "stdout",
     "output_type": "stream",
     "text": [
      "3456\n"
     ]
    }
   ],
   "source": [
    "maxlen=-1\n",
    "for doc in resumedata.cleaned_Resume:\n",
    "    text=nltk.word_tokenize(doc)\n",
    "    if(maxlen<len(text)):\n",
    "        maxlen=len(text)\n",
    "print(maxlen)"
   ]
  },
  {
   "cell_type": "code",
   "execution_count": 112,
   "id": "d3b9cd81",
   "metadata": {},
   "outputs": [],
   "source": [
    "x_train, x_test, y_train, y_test = train_test_split(resumedata.cleaned_Resume, resumedata.encoded_Skills, test_size=0.15, stratify=resumedata.encoded_Skills, random_state=0)\n",
    "x_train, x_val, y_train, y_val = train_test_split(x_train, y_train, test_size=0.05, stratify=y_train, random_state=0)"
   ]
  },
  {
   "cell_type": "code",
   "execution_count": 113,
   "id": "3c11c456",
   "metadata": {},
   "outputs": [],
   "source": [
    "import tensorflow as tf\n",
    "from tensorflow.keras.preprocessing.text import Tokenizer\n",
    "from tensorflow.keras.preprocessing.sequence import pad_sequences"
   ]
  },
  {
   "cell_type": "code",
   "execution_count": 114,
   "id": "2f059623",
   "metadata": {},
   "outputs": [],
   "source": [
    "tokenizer=Tokenizer()\n",
    "tokenizer.fit_on_texts(x_train)\n",
    "train_sequence=tokenizer.texts_to_sequences(x_train)\n",
    "test_sequence=tokenizer.texts_to_sequences(x_test)\n",
    "val_sequence=tokenizer.texts_to_sequences(x_val)"
   ]
  },
  {
   "cell_type": "code",
   "execution_count": 115,
   "id": "2553ef27",
   "metadata": {},
   "outputs": [],
   "source": [
    "#pad_train=pad_sequences(train_sequence,maxlen=100,padding='post',truncating='post')\n",
    "#pad_test=pad_sequences(test_sequence,maxlen=100,padding='post',truncating='post')"
   ]
  },
  {
   "cell_type": "code",
   "execution_count": 116,
   "id": "78fe7b86",
   "metadata": {},
   "outputs": [],
   "source": [
    "from tensorflow.keras.models import Sequential\n",
    "from tensorflow.keras.layers import Embedding, Bidirectional,LSTM,Dense"
   ]
  },
  {
   "cell_type": "code",
   "execution_count": 117,
   "id": "18e4ba4e",
   "metadata": {},
   "outputs": [
    {
     "data": {
      "text/plain": [
       "474"
      ]
     },
     "execution_count": 117,
     "metadata": {},
     "output_type": "execute_result"
    }
   ],
   "source": [
    "len(resumedata.cleaned_Resume[0].split())"
   ]
  },
  {
   "cell_type": "code",
   "execution_count": 118,
   "id": "0cdbb396",
   "metadata": {},
   "outputs": [],
   "source": [
    "list_of_words=[]\n",
    "for i in resumedata.cleaned_Resume:\n",
    "    for j in i.split():\n",
    "        list_of_words.append(j)"
   ]
  },
  {
   "cell_type": "code",
   "execution_count": 119,
   "id": "09616299",
   "metadata": {},
   "outputs": [
    {
     "data": {
      "text/plain": [
       "31647"
      ]
     },
     "execution_count": 119,
     "metadata": {},
     "output_type": "execute_result"
    }
   ],
   "source": [
    "unique_words=len(list(set(list_of_words)))\n",
    "unique_words"
   ]
  },
  {
   "cell_type": "code",
   "execution_count": 120,
   "id": "50630686",
   "metadata": {},
   "outputs": [
    {
     "data": {
      "text/plain": [
       "\"def model():\\n    model=Sequential()\\n    model.add(Embedding(input_dim=unique_words,output_dim=256))\\n    model.add(Bidirectional(LSTM(128)))\\n    model.add(Dense(128,activation='relu'))\\n    model.add(Dense(64,activation='relu'))\\n    model.add(Dense(24))\\n    \\n    model.compile(loss=tf.keras.losses.SparseCategoricalCrossentropy(from_logits=True),optimizer='adam',metrics=['accuracy'])\\n    return model\""
      ]
     },
     "execution_count": 120,
     "metadata": {},
     "output_type": "execute_result"
    }
   ],
   "source": [
    "'''def model():\n",
    "    model=Sequential()\n",
    "    model.add(Embedding(input_dim=unique_words,output_dim=256))\n",
    "    model.add(Bidirectional(LSTM(128)))\n",
    "    model.add(Dense(128,activation='relu'))\n",
    "    model.add(Dense(64,activation='relu'))\n",
    "    model.add(Dense(24))\n",
    "    \n",
    "    model.compile(loss=tf.keras.losses.SparseCategoricalCrossentropy(from_logits=True),optimizer='adam',metrics=['accuracy'])\n",
    "    return model'''"
   ]
  },
  {
   "cell_type": "code",
   "execution_count": 121,
   "id": "af22f33d",
   "metadata": {},
   "outputs": [],
   "source": [
    "#model=model()\n",
    "#model.summary()"
   ]
  },
  {
   "cell_type": "code",
   "execution_count": 122,
   "id": "0b3835e8",
   "metadata": {},
   "outputs": [],
   "source": [
    "#y_train=np.asarray(y_train)"
   ]
  },
  {
   "cell_type": "code",
   "execution_count": 123,
   "id": "94c3afa0",
   "metadata": {},
   "outputs": [],
   "source": [
    "#model.fit(pad_train,y_train,epochs=2)"
   ]
  },
  {
   "cell_type": "code",
   "execution_count": 124,
   "id": "2b0c1f7f",
   "metadata": {},
   "outputs": [],
   "source": [
    "pad_train=pad_sequences(train_sequence,maxlen=3400,padding='post',truncating='post')\n",
    "pad_test=pad_sequences(test_sequence,maxlen=3400,padding='post',truncating='post')\n",
    "pad_val=pad_sequences(val_sequence,maxlen=3400,padding='post',truncating='post')"
   ]
  },
  {
   "cell_type": "code",
   "execution_count": 125,
   "id": "b8ed2843",
   "metadata": {},
   "outputs": [
    {
     "data": {
      "text/plain": [
       "(2174, 3400)"
      ]
     },
     "execution_count": 125,
     "metadata": {},
     "output_type": "execute_result"
    }
   ],
   "source": [
    "np.array(pad_train).shape"
   ]
  },
  {
   "cell_type": "code",
   "execution_count": 126,
   "id": "72828549",
   "metadata": {},
   "outputs": [],
   "source": [
    "def model():\n",
    "    model=Sequential()\n",
    "    model.add(Embedding(input_dim=unique_words,output_dim=256,input_length=3400))\n",
    "    model.add(Bidirectional(LSTM(100)))\n",
    "    model.add(Dense(50,activation='relu'))\n",
    "    model.add(Dense(25,activation='relu'))\n",
    "    model.add(Dense(24,activation='softmax'))\n",
    "    \n",
    "    model.compile(loss=tf.keras.losses.SparseCategoricalCrossentropy(),optimizer='adam',metrics=['accuracy'])\n",
    "    return model"
   ]
  },
  {
   "cell_type": "code",
   "execution_count": 127,
   "id": "11dc6062",
   "metadata": {},
   "outputs": [
    {
     "name": "stdout",
     "output_type": "stream",
     "text": [
      "Model: \"sequential\"\n",
      "_________________________________________________________________\n",
      " Layer (type)                Output Shape              Param #   \n",
      "=================================================================\n",
      " embedding (Embedding)       (None, 3400, 256)         8101632   \n",
      "                                                                 \n",
      " bidirectional (Bidirectiona  (None, 200)              285600    \n",
      " l)                                                              \n",
      "                                                                 \n",
      " dense (Dense)               (None, 50)                10050     \n",
      "                                                                 \n",
      " dense_1 (Dense)             (None, 25)                1275      \n",
      "                                                                 \n",
      " dense_2 (Dense)             (None, 24)                624       \n",
      "                                                                 \n",
      "=================================================================\n",
      "Total params: 8,399,181\n",
      "Trainable params: 8,399,181\n",
      "Non-trainable params: 0\n",
      "_________________________________________________________________\n"
     ]
    }
   ],
   "source": [
    "model=model()\n",
    "model.summary()"
   ]
  },
  {
   "cell_type": "code",
   "execution_count": 128,
   "id": "2e33e942",
   "metadata": {},
   "outputs": [],
   "source": [
    "y_train=np.asarray(y_train)\n",
    "y_test=np.asarray(y_test)\n",
    "y_val=np.asarray(y_val)"
   ]
  },
  {
   "cell_type": "code",
   "execution_count": 129,
   "id": "491b92d3",
   "metadata": {},
   "outputs": [
    {
     "data": {
      "text/plain": [
       "numpy.ndarray"
      ]
     },
     "execution_count": 129,
     "metadata": {},
     "output_type": "execute_result"
    }
   ],
   "source": [
    "type(y_train)"
   ]
  },
  {
   "cell_type": "code",
   "execution_count": 130,
   "id": "2779ce4e",
   "metadata": {},
   "outputs": [
    {
     "name": "stdout",
     "output_type": "stream",
     "text": [
      "Epoch 1/8\n",
      "68/68 [==============================] - 2086s 31s/step - loss: 3.0234 - accuracy: 0.1334 - val_loss: 2.5703 - val_accuracy: 0.2174\n",
      "Epoch 2/8\n",
      "68/68 [==============================] - 2196s 32s/step - loss: 1.7961 - accuracy: 0.5124 - val_loss: 1.3506 - val_accuracy: 0.6696\n",
      "Epoch 3/8\n",
      "68/68 [==============================] - 2286s 34s/step - loss: 0.8462 - accuracy: 0.7893 - val_loss: 1.1499 - val_accuracy: 0.7217\n",
      "Epoch 4/8\n",
      "68/68 [==============================] - 2264s 33s/step - loss: 0.4793 - accuracy: 0.8799 - val_loss: 1.2079 - val_accuracy: 0.7304\n",
      "Epoch 5/8\n",
      "68/68 [==============================] - 2110s 31s/step - loss: 0.2755 - accuracy: 0.9361 - val_loss: 1.2887 - val_accuracy: 0.7217\n",
      "Epoch 6/8\n",
      "68/68 [==============================] - 2140s 31s/step - loss: 0.1828 - accuracy: 0.9577 - val_loss: 1.4474 - val_accuracy: 0.7304\n",
      "Epoch 7/8\n",
      "68/68 [==============================] - 2067s 30s/step - loss: 0.1373 - accuracy: 0.9696 - val_loss: 1.5401 - val_accuracy: 0.7304\n",
      "Epoch 8/8\n",
      "68/68 [==============================] - 2122s 31s/step - loss: 0.0672 - accuracy: 0.9825 - val_loss: 1.6607 - val_accuracy: 0.7217\n"
     ]
    },
    {
     "data": {
      "text/plain": [
       "<keras.callbacks.History at 0x229f6337f40>"
      ]
     },
     "execution_count": 130,
     "metadata": {},
     "output_type": "execute_result"
    }
   ],
   "source": [
    "model.fit(pad_train, y_train, validation_data=(pad_val, y_val), epochs=8)"
   ]
  },
  {
   "cell_type": "code",
   "execution_count": 131,
   "id": "91e049e3",
   "metadata": {},
   "outputs": [
    {
     "data": {
      "text/plain": [
       "numpy.ndarray"
      ]
     },
     "execution_count": 131,
     "metadata": {},
     "output_type": "execute_result"
    }
   ],
   "source": [
    "type(y_test)"
   ]
  },
  {
   "cell_type": "code",
   "execution_count": 132,
   "id": "c0c86616",
   "metadata": {},
   "outputs": [
    {
     "name": "stdout",
     "output_type": "stream",
     "text": [
      "13/13 [==============================] - 44s 3s/step - loss: 1.6820 - accuracy: 0.7401\n"
     ]
    },
    {
     "data": {
      "text/plain": [
       "[1.682031512260437, 0.7400990128517151]"
      ]
     },
     "execution_count": 132,
     "metadata": {},
     "output_type": "execute_result"
    }
   ],
   "source": [
    "model.evaluate(pad_test,y_test)"
   ]
  },
  {
   "cell_type": "code",
   "execution_count": 133,
   "id": "f96d37b4",
   "metadata": {},
   "outputs": [
    {
     "name": "stdout",
     "output_type": "stream",
     "text": [
      "13/13 [==============================] - 43s 3s/step\n"
     ]
    }
   ],
   "source": [
    "prediction_result=model.predict(pad_test)"
   ]
  },
  {
   "cell_type": "code",
   "execution_count": 134,
   "id": "0a395122",
   "metadata": {},
   "outputs": [
    {
     "data": {
      "text/plain": [
       "array([8.9999475e-08, 1.9909452e-07, 3.7738843e-08, 1.0067537e-02,\n",
       "       2.5295658e-05, 2.1232589e-05, 4.7679605e-05, 4.4243672e-04,\n",
       "       1.9385165e-01, 1.5003096e-07, 1.7895179e-08, 1.1762120e-04,\n",
       "       1.1142851e-01, 1.9205034e-05, 3.6046726e-01, 9.6374311e-02,\n",
       "       1.2653504e-07, 2.8933238e-07, 1.1225684e-02, 1.2553210e-15,\n",
       "       1.9168239e-05, 6.1564715e-06, 2.1588542e-01, 1.5323623e-11],\n",
       "      dtype=float32)"
      ]
     },
     "execution_count": 134,
     "metadata": {},
     "output_type": "execute_result"
    }
   ],
   "source": [
    "prediction_result[0]"
   ]
  },
  {
   "cell_type": "code",
   "execution_count": 135,
   "id": "d7655627",
   "metadata": {},
   "outputs": [
    {
     "data": {
      "text/plain": [
       "numpy.ndarray"
      ]
     },
     "execution_count": 135,
     "metadata": {},
     "output_type": "execute_result"
    }
   ],
   "source": [
    "type(prediction_result)"
   ]
  },
  {
   "cell_type": "code",
   "execution_count": 136,
   "id": "9f02f9bf",
   "metadata": {},
   "outputs": [],
   "source": [
    "prediction=[]\n",
    "for i in prediction_result:\n",
    "    prediction.append(np.argmax(i))"
   ]
  },
  {
   "cell_type": "code",
   "execution_count": 137,
   "id": "8dea3494",
   "metadata": {},
   "outputs": [
    {
     "data": {
      "text/plain": [
       "14"
      ]
     },
     "execution_count": 137,
     "metadata": {},
     "output_type": "execute_result"
    }
   ],
   "source": [
    "prediction[0]"
   ]
  },
  {
   "cell_type": "code",
   "execution_count": 138,
   "id": "4cd5e26b",
   "metadata": {},
   "outputs": [
    {
     "data": {
      "text/plain": [
       "404"
      ]
     },
     "execution_count": 138,
     "metadata": {},
     "output_type": "execute_result"
    }
   ],
   "source": [
    "len(y_test)"
   ]
  },
  {
   "cell_type": "code",
   "execution_count": 139,
   "id": "1006b1e9",
   "metadata": {},
   "outputs": [
    {
     "data": {
      "text/plain": [
       "404"
      ]
     },
     "execution_count": 139,
     "metadata": {},
     "output_type": "execute_result"
    }
   ],
   "source": [
    "len(prediction)"
   ]
  },
  {
   "cell_type": "code",
   "execution_count": 140,
   "id": "49cca39b",
   "metadata": {},
   "outputs": [
    {
     "name": "stdout",
     "output_type": "stream",
     "text": [
      "0.7400990099009901\n"
     ]
    }
   ],
   "source": [
    "from sklearn.metrics import accuracy_score\n",
    "accuracy=accuracy_score(list(y_test),prediction)\n",
    "print(accuracy)"
   ]
  },
  {
   "cell_type": "code",
   "execution_count": 141,
   "id": "7a14fafa",
   "metadata": {},
   "outputs": [
    {
     "name": "stdout",
     "output_type": "stream",
     "text": [
      "              precision    recall  f1-score   support\n",
      "\n",
      "           0       0.90      1.00      0.95        18\n",
      "           1       0.72      0.72      0.72        18\n",
      "           2       0.67      0.88      0.76        16\n",
      "           3       0.38      0.33      0.36        15\n",
      "           4       0.56      0.33      0.42        15\n",
      "           5       0.94      0.94      0.94        16\n",
      "           6       0.50      0.44      0.47        18\n",
      "           7       0.58      0.65      0.61        17\n",
      "           8       0.89      1.00      0.94        16\n",
      "           9       0.89      0.94      0.92        18\n",
      "          10       0.92      0.67      0.77        18\n",
      "          11       1.00      0.65      0.79        17\n",
      "          12       0.89      1.00      0.94        17\n",
      "          13       0.94      1.00      0.97        16\n",
      "          14       0.38      0.64      0.47        14\n",
      "          15       0.94      0.94      0.94        18\n",
      "          16       0.93      0.78      0.85        18\n",
      "          17       0.39      0.39      0.39        18\n",
      "          18       0.50      0.24      0.32        17\n",
      "          19       0.94      1.00      0.97        17\n",
      "          20       0.59      0.72      0.65        18\n",
      "          21       0.61      0.65      0.63        17\n",
      "          22       0.94      0.88      0.91        17\n",
      "          23       0.78      0.93      0.85        15\n",
      "\n",
      "    accuracy                           0.74       404\n",
      "   macro avg       0.74      0.74      0.73       404\n",
      "weighted avg       0.75      0.74      0.73       404\n",
      "\n"
     ]
    }
   ],
   "source": [
    "print(classification_report(y_test,prediction))"
   ]
  },
  {
   "cell_type": "code",
   "execution_count": 142,
   "id": "3ff4c531",
   "metadata": {},
   "outputs": [
    {
     "data": {
      "image/png": "[encoded data removed]",
      "text/plain": [
       "<Figure size 640x480 with 1 Axes>"
      ]
     },
     "metadata": {},
     "output_type": "display_data"
    }
   ],
   "source": [
    "lstm_cm=confusion_matrix(y_test,prediction)\n",
    "sns.heatmap(lstm_cm,cbar=False,annot=True,cmap='rainbow',fmt='d')\n",
    "plt.show()"
   ]
  },
  {
   "cell_type": "markdown",
   "id": "2ae61c81",
   "metadata": {},
   "source": [
    "# outside testing"
   ]
  },
  {
   "cell_type": "code",
   "execution_count": 143,
   "id": "59db4d51",
   "metadata": {},
   "outputs": [],
   "source": [
    "link='''Mannem Nanda Pavan Reddy\n",
    "B.Tech –Mechanical Engineering - IIT (ISM) Dhanbad\n",
    "GitHub:nandapavan\n",
    "\n",
    "Admission No. : 20JE0538\n",
    "\n",
    "Email: nandapavanmannem26@gmail.com\n",
    "\n",
    "Contact: +91 7989106548\n",
    "\n",
    "LinkedIn:https://www.linkedin.com/mannem-nandapavanreddy/\n",
    "\n",
    "PROJECTS\n",
    "\n",
    "EDUCATION\n",
    "\n",
    "CAMPGROUNDS\n",
    "\n",
    "Indian Institute of Technology (ISM), Dhanbad\n",
    "B.Tech - Mechanical Engineering\n",
    "\n",
    "This web application gives reviews and ratings of tourism\n",
    "Place for the users\n",
    "Features:●\n",
    "●\n",
    "●\n",
    "●\n",
    "●\n",
    "\n",
    "Each user has to create an account on the web page to\n",
    "submit their review for the campground.\n",
    "Users are able to see each individual campground on\n",
    "the geolocation.\n",
    "A review submitted by the user can only edit/delete\n",
    "the review.\n",
    "One to many mongodb relationships are used so\n",
    "that for a campground a user can find all the reviews\n",
    "on a single page.\n",
    "A user can search a campground by its name or\n",
    "location.\n",
    "\n",
    "Tech stack used:\n",
    "Javascript,Css,Bootstrap,Node Js,Express,Mongodb,\n",
    "Mongoose,ExpressJs,Cookies & Sessions.\n",
    "Project Github link:nandapavan26/campgrounds_review\n",
    "Web link:https://traveladvisor-xlzx.onrender.com/\n",
    "\n",
    "TODOLIST\n",
    "This is a To Do List web application where the user can create\n",
    "the new todo list by adding the name of the todo list at the\n",
    "link of todo list/name of todo list.\n",
    "Features:● Each item in the To Do List is stored in the Database\n",
    "When created\n",
    "● User can Create different categories of Todolist in\n",
    "this web application\n",
    "Tech stack used:\n",
    "Javascript,Css,Bootstrap,Node Js,Express,Mongodb,\n",
    "Mongoose,ExpressJs.\n",
    "\n",
    "DEC 2020 - DEC 2022 CGPA – 8.54\n",
    "\n",
    "Sasi Junior College, Velivennu\n",
    "12th - APRIL 2018 - APRIL 2020 - 96.6%\n",
    "10th - APRIL 2017 - APRIL 2018 - 9.80 CGPA\n",
    "\n",
    "TECHNICAL SKILLS\n",
    "Languages\n",
    "\n",
    "C++, C, Javascript\n",
    "\n",
    "Courses\n",
    "\n",
    "DSA,OOP in C++,DBMS\n",
    "\n",
    "Web\n",
    "Development\n",
    "\n",
    "HTML, CSS, Javascript, Bootstrap,\n",
    "Node JS, Express JS,Mongoose,\n",
    "Cookies&Sessions,React JS\n",
    "\n",
    "Database\n",
    "\n",
    "MongoDB\n",
    "\n",
    "Tools\n",
    "\n",
    "Git, Postman\n",
    "\n",
    "COMPETITIVE PROGRAMMING\n",
    "PLATFORM\n",
    "\n",
    "USERNAME\n",
    "\n",
    "SOLVED\n",
    "COUNT\n",
    "\n",
    "RATING\n",
    "\n",
    "Leetcode\n",
    "\n",
    "nandapavan26\n",
    "\n",
    "220\n",
    "\n",
    "1852\n",
    "\n",
    "Codeforces\n",
    "\n",
    "nandapavan26\n",
    "\n",
    "790\n",
    "\n",
    "1422\n",
    "\n",
    "Codechef\n",
    "\n",
    "nandapavan26\n",
    "\n",
    "155\n",
    "\n",
    "1775\n",
    "\n",
    "Hackerrank\n",
    "\n",
    "nandapavan26\n",
    "\n",
    "40\n",
    "\n",
    "5*\n",
    "\n",
    "ACHIEVEMENTS\n",
    "●\n",
    "\n",
    "Project Github link :nandapavan26/TODOLIST\n",
    "\n",
    "SIMON GAME\n",
    "This Web application is used to play the simon game which is\n",
    "a memory based game on pattern of colors selected.The user\n",
    "needs to memorize the pattern and select the same pattern\n",
    "given by the website.\n",
    "Tech stack used:\n",
    "Html,Css,Javascript..\n",
    "Project Github link : nandapavan26/Simon-game\n",
    "\n",
    "Invited for attending Publicis Sapient Jumpstart event\n",
    "after clearing the coding round which had over 30k\n",
    "registrations.\n",
    "\n",
    "●\n",
    "\n",
    "Achieved Global Rank 228 in Codechef Starter 55 div2.\n",
    "\n",
    "●\n",
    "\n",
    "Achieved Global Rank 490 in Codeforces 789 div2.\n",
    "\n",
    "●\n",
    "\n",
    "Qualified for round 2 in Meta hacker cup 2022.\n",
    "\n",
    "●\n",
    "\n",
    "Solved around 1200 problems in competitive\n",
    "programming.\n",
    "\n",
    "EXTRACURRICULARS\n",
    "\n",
    "Active member of badminton club of\n",
    "IIT(ISM),Dhanbad'''"
   ]
  },
  {
   "cell_type": "code",
   "execution_count": 144,
   "id": "29ef95e9",
   "metadata": {},
   "outputs": [],
   "source": [
    "link=cleaning(link)\n",
    "link=lemmatization(link)\n",
    "link=stop_words(link)"
   ]
  },
  {
   "cell_type": "code",
   "execution_count": 145,
   "id": "d11f3792",
   "metadata": {},
   "outputs": [
    {
     "data": {
      "text/plain": [
       "'mannem nanda pavan reddy b tech mechanical engineering iit ism dhanbad github nandapavan admission je email nandapavanmannem gmail com contact linkedin https www linkedin com mannem nandapavanreddy projects education campground indian institute technology ism dhanbad b tech mechanical engineering web application review rating tourism place user feature user create account web page submit review campground user able individual campground geolocation review submit user edit delete review mongodb relationship use campground user find review single page user search campground location tech stack use javascript css bootstrap node js express mongodb mongoose expressjs cookie session project github link nandapavan campground review web link https traveladvisor xlzx onrender com todolist list web application user create new todo list add todo list link todo list todo list feature item list store database create user create different category todolist web application tech stack use javascript css bootstrap node js express mongodb mongoose expressjs cgpa sasi ior college velivennu th th cgpa technical skill language c c javascript course dsa oop c dbms web development html css javascript bootstrap node js express js mongoose cookie session react js database mongodb tool git postman competitive programming platform username solve count rating leetcode nandapavan codeforces nandapavan co hef nandapavan hackerrank nandapavan achievement project github link nandapavan todolist simon game web application use play simon game memory base game pattern color select user need memorize pattern select pattern website tech stack use html css javascript project github link nandapavan simon game invite attend publicis sapient jumpstart event clear code round k registration achieve global rank co hef starter div achieve global rank codeforce div qualified round meta hacker cup solve problem competitive programming extracurricular active member badminton club iit ism dhanbad'"
      ]
     },
     "execution_count": 145,
     "metadata": {},
     "output_type": "execute_result"
    }
   ],
   "source": [
    "link"
   ]
  },
  {
   "cell_type": "code",
   "execution_count": 146,
   "id": "5a4a103d",
   "metadata": {},
   "outputs": [
    {
     "data": {
      "text/plain": [
       "1982"
      ]
     },
     "execution_count": 146,
     "metadata": {},
     "output_type": "execute_result"
    }
   ],
   "source": [
    "len(link)"
   ]
  },
  {
   "cell_type": "code",
   "execution_count": 147,
   "id": "cb1717c4",
   "metadata": {},
   "outputs": [],
   "source": [
    "x_n=v.transform([link]).toarray()"
   ]
  },
  {
   "cell_type": "code",
   "execution_count": 148,
   "id": "077c29ef",
   "metadata": {},
   "outputs": [],
   "source": [
    "test_sparse=csr_matrix(x_n)"
   ]
  },
  {
   "cell_type": "code",
   "execution_count": 149,
   "id": "8ff399dd",
   "metadata": {},
   "outputs": [
    {
     "data": {
      "text/plain": [
       "(1, 31623)"
      ]
     },
     "execution_count": 149,
     "metadata": {},
     "output_type": "execute_result"
    }
   ],
   "source": [
    "test_sparse.shape"
   ]
  },
  {
   "cell_type": "code",
   "execution_count": 150,
   "id": "a5e82b55",
   "metadata": {},
   "outputs": [
    {
     "name": "stdout",
     "output_type": "stream",
     "text": [
      "[20]\n"
     ]
    }
   ],
   "source": [
    "k=multi_nb.predict(test_sparse)\n",
    "print(k)"
   ]
  },
  {
   "cell_type": "code",
   "execution_count": 151,
   "id": "24057784",
   "metadata": {},
   "outputs": [
    {
     "data": {
      "text/plain": [
       "str"
      ]
     },
     "execution_count": 151,
     "metadata": {},
     "output_type": "execute_result"
    }
   ],
   "source": [
    "type(link)"
   ]
  },
  {
   "cell_type": "code",
   "execution_count": 152,
   "id": "9aa5f5de",
   "metadata": {},
   "outputs": [],
   "source": [
    "train_n=tokenizer.texts_to_sequences([link])\n",
    "pad_n=pad_sequences(train_n,maxlen=3400,padding='post',truncating='post')"
   ]
  },
  {
   "cell_type": "code",
   "execution_count": 153,
   "id": "dd5deef9",
   "metadata": {},
   "outputs": [
    {
     "data": {
      "text/plain": [
       "(1, 3400)"
      ]
     },
     "execution_count": 153,
     "metadata": {},
     "output_type": "execute_result"
    }
   ],
   "source": [
    "np.array(pad_n).shape"
   ]
  },
  {
   "cell_type": "code",
   "execution_count": 154,
   "id": "f9946cce",
   "metadata": {},
   "outputs": [
    {
     "name": "stdout",
     "output_type": "stream",
     "text": [
      "1/1 [==============================] - 0s 127ms/step\n"
     ]
    }
   ],
   "source": [
    "prediction_test=model.predict(pad_n)"
   ]
  },
  {
   "cell_type": "code",
   "execution_count": 155,
   "id": "c07bdffb",
   "metadata": {},
   "outputs": [
    {
     "data": {
      "text/plain": [
       "array([[1.19134719e-02, 1.28747106e-05, 1.54477457e-04, 2.42177234e-03,\n",
       "        3.64910637e-04, 1.04756737e-05, 1.47288054e-01, 7.55638102e-05,\n",
       "        7.23197684e-03, 1.37035798e-07, 8.00842237e-09, 7.14146954e-05,\n",
       "        3.13825347e-02, 3.41809928e-01, 1.17798639e-03, 3.50174606e-01,\n",
       "        1.22588062e-06, 9.90515673e-07, 1.06048701e-05, 3.94629573e-08,\n",
       "        4.36016126e-04, 4.63630386e-07, 1.05357692e-01, 1.02760794e-04]],\n",
       "      dtype=float32)"
      ]
     },
     "execution_count": 155,
     "metadata": {},
     "output_type": "execute_result"
    }
   ],
   "source": [
    "prediction_test"
   ]
  },
  {
   "cell_type": "code",
   "execution_count": 156,
   "id": "8e70473c",
   "metadata": {},
   "outputs": [],
   "source": [
    "pred=[]\n",
    "for i in prediction_test:\n",
    "    pred.append((np.argmax(i),max(i)))"
   ]
  },
  {
   "cell_type": "code",
   "execution_count": 157,
   "id": "23efbfc8",
   "metadata": {},
   "outputs": [
    {
     "data": {
      "text/plain": [
       "[(15, 0.3501746)]"
      ]
     },
     "execution_count": 157,
     "metadata": {},
     "output_type": "execute_result"
    }
   ],
   "source": [
    "pred"
   ]
  },
  {
   "cell_type": "code",
   "execution_count": 158,
   "id": "cab3984f",
   "metadata": {},
   "outputs": [],
   "source": [
    "#resumedata[resumedata['Category']=='FITNESS']['cleaned_Resume'].iloc[20]"
   ]
  },
  {
   "cell_type": "code",
   "execution_count": 207,
   "id": "43c2da32",
   "metadata": {},
   "outputs": [],
   "source": [
    "link1='''Mannem Nanda Pavan Reddy\n",
    "B.Tech –Mechanical Engineering - IIT (ISM) Dhanbad\n",
    "GitHub:nandapavan\n",
    "\n",
    "Admission No. : 20JE0538\n",
    "\n",
    "Email: nandapavanmannem26@gmail.com\n",
    "\n",
    "Contact: +91 7989106548\n",
    "\n",
    "LinkedIn:https://www.linkedin.com/mannem-nandapavanreddy/\n",
    "\n",
    "PROJECTS\n",
    "\n",
    "EDUCATION\n",
    "\n",
    "CAMPGROUNDS\n",
    "\n",
    "Indian Institute of Technology (ISM), Dhanbad\n",
    "B.Tech - Mechanical Engineering\n",
    "\n",
    "This web application gives reviews and ratings of tourism\n",
    "Place for the users\n",
    "Features:●\n",
    "●\n",
    "●\n",
    "●\n",
    "●\n",
    "\n",
    "Each user has to create an account on the web page to\n",
    "submit their review for the campground.\n",
    "Users are able to see each individual campground on\n",
    "the geolocation.\n",
    "A review submitted by the user can only edit/delete\n",
    "the review.\n",
    "One to many mongodb relationships are used so\n",
    "that for a campground a user can find all the reviews\n",
    "on a single page.\n",
    "A user can search a campground by its name or\n",
    "location.\n",
    "\n",
    "Tech stack used:\n",
    "Javascript,Css,Bootstrap,Node Js,Express,Mongodb,\n",
    "Mongoose,ExpressJs,Cookies & Sessions.\n",
    "Project Github link:nandapavan26/campgrounds_review\n",
    "Web link:https://traveladvisor-xlzx.onrender.com/\n",
    "\n",
    "TODOLIST\n",
    "This is a To Do List web application where the user can create\n",
    "the new todo list by adding the name of the todo list at the\n",
    "link of todo list/name of todo list.\n",
    "Features:● Each item in the To Do List is stored in the Database\n",
    "When created\n",
    "● User can Create different categories of Todolist in\n",
    "this web application\n",
    "Tech stack used:\n",
    "Javascript,Css,Bootstrap,Node Js,Express,Mongodb,\n",
    "Mongoose,ExpressJs.\n",
    "\n",
    "DEC 2020 - DEC 2022 CGPA – 8.54\n",
    "\n",
    "Sasi Junior College, Velivennu\n",
    "12th - APRIL 2018 - APRIL 2020 - 96.6%\n",
    "10th - APRIL 2017 - APRIL 2018 - 9.80 CGPA\n",
    "\n",
    "TECHNICAL SKILLS\n",
    "Languages\n",
    "\n",
    "C++, C, Javascript\n",
    "\n",
    "Courses\n",
    "\n",
    "DSA,OOP in C++,DBMS\n",
    "\n",
    "Web\n",
    "Development\n",
    "\n",
    "HTML, CSS, Javascript, Bootstrap,\n",
    "Node JS, Express JS,Mongoose,\n",
    "Cookies&Sessions,React JS\n",
    "\n",
    "Database\n",
    "\n",
    "MongoDB\n",
    "\n",
    "Tools\n",
    "\n",
    "Git, Postman\n",
    "\n",
    "COMPETITIVE PROGRAMMING\n",
    "PLATFORM\n",
    "\n",
    "USERNAME\n",
    "\n",
    "SOLVED\n",
    "COUNT\n",
    "\n",
    "RATING\n",
    "\n",
    "Leetcode\n",
    "\n",
    "nandapavan26\n",
    "\n",
    "220\n",
    "\n",
    "1852\n",
    "\n",
    "Codeforces\n",
    "\n",
    "nandapavan26\n",
    "\n",
    "790\n",
    "\n",
    "1422\n",
    "\n",
    "Codechef\n",
    "\n",
    "nandapavan26\n",
    "\n",
    "155\n",
    "\n",
    "1775\n",
    "\n",
    "Hackerrank\n",
    "\n",
    "nandapavan26\n",
    "\n",
    "40\n",
    "\n",
    "5*\n",
    "\n",
    "ACHIEVEMENTS\n",
    "●\n",
    "\n",
    "Project Github link :nandapavan26/TODOLIST\n",
    "\n",
    "SIMON GAME\n",
    "This Web application is used to play the simon game which is\n",
    "a memory based game on pattern of colors selected.The user\n",
    "needs to memorize the pattern and select the same pattern\n",
    "given by the website.\n",
    "Tech stack used:\n",
    "Html,Css,Javascript..\n",
    "Project Github link : nandapavan26/Simon-game\n",
    "\n",
    "Invited for attending Publicis Sapient Jumpstart event\n",
    "after clearing the coding round which had over 30k\n",
    "registrations.\n",
    "\n",
    "●\n",
    "\n",
    "Achieved Global Rank 228 in Codechef Starter 55 div2.\n",
    "\n",
    "●\n",
    "\n",
    "Achieved Global Rank 490 in Codeforces 789 div2.\n",
    "\n",
    "●\n",
    "\n",
    "Qualified for round 2 in Meta hacker cup 2022.\n",
    "\n",
    "●\n",
    "\n",
    "Solved around 1200 problems in competitive\n",
    "programming.\n",
    "\n",
    "EXTRACURRICULARS\n",
    "\n",
    "Active member of badminton club of\n",
    "IIT(ISM),Dhanbad'''"
   ]
  },
  {
   "cell_type": "code",
   "execution_count": 208,
   "id": "81995c4d",
   "metadata": {},
   "outputs": [],
   "source": [
    "link1=cleaning(link1)\n",
    "link1=lemmatization(link1)\n",
    "link1=stop_words(link1)"
   ]
  },
  {
   "cell_type": "code",
   "execution_count": 209,
   "id": "957bf20f",
   "metadata": {},
   "outputs": [
    {
     "data": {
      "text/plain": [
       "'mannem nanda pavan reddy b tech mechanical engineering iit ism dhanbad github nandapavan admission je email nandapavanmannem gmail com contact linkedin https www linkedin com mannem nandapavanreddy projects education campground indian institute technology ism dhanbad b tech mechanical engineering web application review rating tourism place user feature user create account web page submit review campground user able individual campground geolocation review submit user edit delete review mongodb relationship use campground user find review single page user search campground location tech stack use javascript css bootstrap node js express mongodb mongoose expressjs cookie session project github link nandapavan campground review web link https traveladvisor xlzx onrender com todolist list web application user create new todo list add todo list link todo list todo list feature item list store database create user create different category todolist web application tech stack use javascript css bootstrap node js express mongodb mongoose expressjs cgpa sasi ior college velivennu th th cgpa technical skill language c c javascript course dsa oop c dbms web development html css javascript bootstrap node js express js mongoose cookie session react js database mongodb tool git postman competitive programming platform username solve count rating leetcode nandapavan codeforces nandapavan co hef nandapavan hackerrank nandapavan achievement project github link nandapavan todolist simon game web application use play simon game memory base game pattern color select user need memorize pattern select pattern website tech stack use html css javascript project github link nandapavan simon game invite attend publicis sapient jumpstart event clear code round k registration achieve global rank co hef starter div achieve global rank codeforce div qualified round meta hacker cup solve problem competitive programming extracurricular active member badminton club iit ism dhanbad'"
      ]
     },
     "execution_count": 209,
     "metadata": {},
     "output_type": "execute_result"
    }
   ],
   "source": [
    "link1"
   ]
  },
  {
   "cell_type": "code",
   "execution_count": 210,
   "id": "6a709d87",
   "metadata": {},
   "outputs": [],
   "source": [
    "train_n=tokenizer.texts_to_sequences([link1])\n",
    "pad_n=pad_sequences(train_n,maxlen=3400,padding='post',truncating='post')"
   ]
  },
  {
   "cell_type": "code",
   "execution_count": 211,
   "id": "9b43819f",
   "metadata": {},
   "outputs": [
    {
     "data": {
      "text/plain": [
       "1"
      ]
     },
     "execution_count": 211,
     "metadata": {},
     "output_type": "execute_result"
    }
   ],
   "source": [
    "len(train_n)"
   ]
  },
  {
   "cell_type": "code",
   "execution_count": 212,
   "id": "937b6582",
   "metadata": {},
   "outputs": [
    {
     "name": "stdout",
     "output_type": "stream",
     "text": [
      "1/1 [==============================] - 0s 129ms/step\n"
     ]
    }
   ],
   "source": [
    "prediction_test=model.predict(pad_n)"
   ]
  },
  {
   "cell_type": "code",
   "execution_count": 213,
   "id": "7ef6aca6",
   "metadata": {},
   "outputs": [
    {
     "data": {
      "text/plain": [
       "array([[1.19134719e-02, 1.28747106e-05, 1.54477457e-04, 2.42177234e-03,\n",
       "        3.64910637e-04, 1.04756737e-05, 1.47288054e-01, 7.55638102e-05,\n",
       "        7.23197684e-03, 1.37035798e-07, 8.00842237e-09, 7.14146954e-05,\n",
       "        3.13825347e-02, 3.41809928e-01, 1.17798639e-03, 3.50174606e-01,\n",
       "        1.22588062e-06, 9.90515673e-07, 1.06048701e-05, 3.94629573e-08,\n",
       "        4.36016126e-04, 4.63630386e-07, 1.05357692e-01, 1.02760794e-04]],\n",
       "      dtype=float32)"
      ]
     },
     "execution_count": 213,
     "metadata": {},
     "output_type": "execute_result"
    }
   ],
   "source": [
    "prediction_test"
   ]
  },
  {
   "cell_type": "code",
   "execution_count": 214,
   "id": "806d8030",
   "metadata": {},
   "outputs": [],
   "source": [
    "pred=[]\n",
    "for i in prediction_test:\n",
    "    pred.append((np.argmax(i),max(i)))"
   ]
  },
  {
   "cell_type": "code",
   "execution_count": 215,
   "id": "b360d489",
   "metadata": {},
   "outputs": [
    {
     "data": {
      "text/plain": [
       "[(15, 0.3501746)]"
      ]
     },
     "execution_count": 215,
     "metadata": {},
     "output_type": "execute_result"
    }
   ],
   "source": [
    "pred"
   ]
  },
  {
   "cell_type": "code",
   "execution_count": null,
   "id": "673c72f2",
   "metadata": {},
   "outputs": [],
   "source": []
  },
  {
   "cell_type": "code",
   "execution_count": null,
   "id": "b2ea76ed",
   "metadata": {},
   "outputs": [],
   "source": []
  }
 ],
 "metadata": {
  "kernelspec": {
   "display_name": "Python 3 (ipykernel)",
   "language": "python",
   "name": "python3"
  },
  "language_info": {
   "codemirror_mode": {
    "name": "ipython",
    "version": 3
   },
   "file_extension": ".py",
   "mimetype": "text/x-python",
   "name": "python",
   "nbconvert_exporter": "python",
   "pygments_lexer": "ipython3",
   "version": "3.10.9"
  }
 },
 "nbformat": 4,
 "nbformat_minor": 5
}
